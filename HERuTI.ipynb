{
 "cells": [
  {
   "cell_type": "markdown",
   "metadata": {},
   "source": [
    "# Human's emotion recognition using thermal images\n",
    "## *TEACHER: NGUYEN VIET HUNG*\n",
    "## *MEMBER*\n",
    "- Vuong Le Minh Nguyen\n",
    "- Luong Cong Tam"
   ]
  },
  {
   "cell_type": "markdown",
   "metadata": {},
   "source": [
    "#### Import Library & Settings"
   ]
  },
  {
   "cell_type": "code",
   "execution_count": 1,
   "metadata": {},
   "outputs": [],
   "source": [
    "import pandas as pd\n",
    "import sklearn\n",
    "import scipy\n",
    "import numpy as np\n",
    "import matplotlib.pyplot as plt\n",
    "import cv2\n",
    "import glob\n",
    "import random\n",
    "import IPython.display as display\n",
    "from configparser import ConfigParser\n",
    "from time import sleep\n",
    "\n",
    "np.set_printoptions(threshold=np.inf) # Setting for full numpy matrices printing"
   ]
  },
  {
   "cell_type": "code",
   "execution_count": 2,
   "metadata": {},
   "outputs": [],
   "source": [
    "# Load db config:\n",
    "dbconfig = ConfigParser()\n",
    "dbconfig.read('database.ini')\n",
    "\n",
    "# Assign dbDir with local config:\n",
    "dbDir = dbconfig['LOCAL']['location'] #Database directory\n",
    "eDir = {\n",
    "    \"angry\":\"anger\",\n",
    "    \"fear\":\"fear\",\n",
    "    \"happy\":\"happy\",\n",
    "    \"sad\":\"sadness\",\n",
    "    \"neutral\":\"neutral\"\n",
    "} #Name of directory of each Emotion"
   ]
  },
  {
   "cell_type": "markdown",
   "metadata": {},
   "source": [
    "#### Function definition"
   ]
  },
  {
   "cell_type": "code",
   "execution_count": 3,
   "metadata": {},
   "outputs": [],
   "source": [
    "def frameShow(frame):\n",
    "    w, h = frame.shape\n",
    "    ret = cv2.imencode('.jpeg',frame)[1]\n",
    "    i = display.Image(data=ret, width = w, height = h)\n",
    "    display.display(i)\n",
    "    sleep(0.05)\n",
    "#     display.clear_output(True)"
   ]
  },
  {
   "cell_type": "code",
   "execution_count": 4,
   "metadata": {},
   "outputs": [],
   "source": [
    "def getSVXFiles(fd):\n",
    "    return glob.glob(fd + '/*.svx')"
   ]
  },
  {
   "cell_type": "code",
   "execution_count": 5,
   "metadata": {},
   "outputs": [],
   "source": [
    "def readSVX(file, frame_limit = 6990):\n",
    "    # Default frame_limit is based on the requirement of at least 1GB of free RAM (6990*153600B ~~ 1GB)\n",
    "    # Open file to read:\n",
    "    f = open(file,'rb') \n",
    "    \n",
    "    # Skip 128 bytes from the file's beginning:\n",
    "    f.seek(128) \n",
    "    \n",
    "    # Calculate grayscale converter:\n",
    "    [CA,CB] = np.divide(np.frombuffer(f.read(8), dtype=np.dtype('<i4'), count=2), 2**16)\n",
    "    #Array from buffer\n",
    "    #Data type: int32 (4 bytes/each - 'i4') \n",
    "    #Byte-order:  Litte-endian ('<')\n",
    "    \n",
    "    # Skip to the beginning of first frame to start reading:\n",
    "    f.seek(1104) \n",
    "    \n",
    "    list_img2d = []\n",
    "\n",
    "    for i in range (0,frame_limit):\n",
    "        buffer = f.read(153600)\n",
    "        \n",
    "        # Check EOF:\n",
    "        if len(buffer) < 153600:\n",
    "            break\n",
    "        \n",
    "        img = np.frombuffer(buffer,dtype=np.dtype('>i2'))\n",
    "        #Array from buffer\n",
    "        #Data type: int16 (2 bytes/each - 'i2') \n",
    "        #Byte-order:  Big-endian ('>')\n",
    "        \n",
    "        # Convert read img to grayscale (temperature) using converter, then reshape from 1D to 2D:\n",
    "        img2d = (img * CB + CA).reshape(240,320)\n",
    "        \n",
    "        # Add read frame to the result array:\n",
    "        list_img2d.append(img2d) \n",
    "        \n",
    "        # Move to the beginning of next frame to continue reading:\n",
    "        f.seek(2592,1) \n",
    "    \n",
    "    f.close()\n",
    "    return np.array(list_img2d)"
   ]
  },
  {
   "cell_type": "code",
   "execution_count": 6,
   "metadata": {
    "slideshow": {
     "slide_type": "subslide"
    }
   },
   "outputs": [],
   "source": [
    "def getTROIs(frame):\n",
    "    Tmax = np.amax(frame)\n",
    "    Tmin = np.amin(frame)\n",
    "    \n",
    "    # Map current frame to 8-bit grayscale:\n",
    "    lbound = np.floor(Tmin)\n",
    "    rbound = np.ceil(Tmax)\n",
    "#     grayImg = ((frame-lbound)*256/(rbound-lbound)).astype(int)\n",
    "    grayImg = (frame*256/rbound).astype(int)\n",
    "    frameShow(grayImg)\n",
    "    \n",
    "    # Get the pixel with the highest intensity in grayscale:\n",
    "    T_icmgr = np.argmax(np.bincount(grayImg.reshape(240*320)))\n",
    "    \n",
    "    # Calculate delta t:\n",
    "    deltaT = (Tmax - Tmin)/T_icmgr\n",
    "#     print(deltaT)\n",
    "    # Get TROIs:\n",
    "    TROIs = frame\n",
    "    for i in range(TROIs.shape[0]):\n",
    "        for j in range(TROIs.shape[1]):\n",
    "            if frame[i][j] > Tmax - deltaT * TROIs[i][j] or frame[i][j] < Tmin + deltaT * TROIs[i][j]:\n",
    "                TROIs[i][j] = 0\n",
    "    \n",
    "    return TROIs\n",
    "    "
   ]
  },
  {
   "cell_type": "code",
   "execution_count": 7,
   "metadata": {},
   "outputs": [],
   "source": [
    "def getGrayImage(frame, bit_depth = 8):\n",
    "    Tmax = np.amax(frame)\n",
    "    Tmin = np.amin(frame)\n",
    "    \n",
    "    # Map current frame to 8-bit grayscale:\n",
    "    lbound = np.floor(Tmin)\n",
    "    rbound = np.ceil(Tmax)\n",
    "    scale = 2**bit_depth\n",
    "    grayImg = ((frame-lbound)*scale/(rbound-lbound)).astype(int)\n",
    "    \n",
    "    return grayImg"
   ]
  },
  {
   "cell_type": "code",
   "execution_count": 8,
   "metadata": {},
   "outputs": [],
   "source": [
    "def getFace(frame):\n",
    "    # TODO - getFace function\n",
    "    xF, yF = frame.shape\n",
    "    print(xF, yF)\n",
    "    tE, rE, bE, lE = xF, 0, 0, yF\n",
    "    print(tE, rE, bE, lE)\n",
    "    for x in range(xF):\n",
    "        for y in range(yF):\n",
    "            if (frame[x][y] < 29.0):\n",
    "                frame[x][y] = 0\n",
    "            else:\n",
    "                tE = min(tE, x)\n",
    "                rE = max(rE, y)\n",
    "                lE = min(lE, y)\n",
    "    \n",
    "    # Find bottomEdge\n",
    "    mP = (rE + lE) // 2\n",
    "    print(mP)\n",
    "    for i in range(130, xF-1):\n",
    "        if abs(frame[i][mP] - frame[i+1][mP]) > 00.60:\n",
    "            print(frame[i][mP], frame[i+1][mP])\n",
    "            bE = i\n",
    "            break\n",
    "            \n",
    "    print(tE, rE, bE, lE)\n",
    "    \n",
    "    print(frame[lE:rE:1, tE:bE:1].shape)\n",
    "    plt.imshow(frame[tE:bE, lE:rE])\n",
    "#     plt.show()"
   ]
  },
  {
   "cell_type": "code",
   "execution_count": 9,
   "metadata": {},
   "outputs": [],
   "source": [
    "def frameCaRs(frame, width, height):\n",
    "    # TODO - frame Crop and Resize function\n",
    "    return 0"
   ]
  },
  {
   "cell_type": "code",
   "execution_count": 17,
   "metadata": {
    "scrolled": false,
    "slideshow": {
     "slide_type": "-"
    }
   },
   "outputs": [
    {
     "data": {
      "text/plain": [
       "array([[<matplotlib.axes._subplots.AxesSubplot object at 0x000000000FB167B8>],\n",
       "       [<matplotlib.axes._subplots.AxesSubplot object at 0x0000000010927438>],\n",
       "       [<matplotlib.axes._subplots.AxesSubplot object at 0x000000001015BB38>],\n",
       "       [<matplotlib.axes._subplots.AxesSubplot object at 0x00000000100F49B0>],\n",
       "       [<matplotlib.axes._subplots.AxesSubplot object at 0x0000000010134F28>]],\n",
       "      dtype=object)"
      ]
     },
     "execution_count": 17,
     "metadata": {},
     "output_type": "execute_result"
    },
    {
     "data": {
      "image/png": "[encoded data removed]",
      "text/plain": [
       "<Figure size 1440x1224 with 5 Axes>"
      ]
     },
     "metadata": {
      "needs_background": "light"
     },
     "output_type": "display_data"
    }
   ],
   "source": [
    "# Demo reading imgs from SVX Files:\n",
    "train = dict()\n",
    "for e in eDir:\n",
    "    avgGrayImg = np.zeros(240*320)\n",
    "    cnt = 0\n",
    "    for file in getSVXFiles(dbDir+eDir[e]):\n",
    "        data = readSVX(file, 1)\n",
    "        grayImg = getGrayImage(data[0])\n",
    "#         frameShow(grayImg)\n",
    "        avgGrayImg = avgGrayImg + grayImg.reshape(240*320)\n",
    "        cnt += 1\n",
    "        data = None\n",
    "    train[e] = avgGrayImg/cnt\n",
    "pd.DataFrame(train).hist(bins = 256, figsize = (20, 17), layout = (5,1))"
   ]
  },
  {
   "cell_type": "code",
   "execution_count": null,
   "metadata": {},
   "outputs": [],
   "source": []
  }
 ],
 "metadata": {
  "kernelspec": {
   "display_name": "Python 3",
   "language": "python",
   "name": "python3"
  },
  "language_info": {
   "codemirror_mode": {
    "name": "ipython",
    "version": 3
   },
   "file_extension": ".py",
   "mimetype": "text/x-python",
   "name": "python",
   "nbconvert_exporter": "python",
   "pygments_lexer": "ipython3",
   "version": "3.7.0"
  }
 },
 "nbformat": 4,
 "nbformat_minor": 2
}
