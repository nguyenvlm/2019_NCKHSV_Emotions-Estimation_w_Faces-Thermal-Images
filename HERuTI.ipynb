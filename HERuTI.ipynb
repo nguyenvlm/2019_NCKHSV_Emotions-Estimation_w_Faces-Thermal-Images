{
 "cells": [
  {
   "cell_type": "code",
   "execution_count": 19,
   "metadata": {},
   "outputs": [],
   "source": [
    "# Human's emotion recognition using thermal images\n",
    "import numpy as np\n",
    "import glob\n",
    "import random\n",
    "from scipy.sparse.linalg import svds\n",
    "\n",
    "np.set_printoptions(threshold=np.inf)\n",
    "\n",
    "dbDir ='D:/ĐHSP/NCKH/Thermal Database/' #Database directory\n",
    "eDir = {\n",
    "    \"angry\":\"anger\",\n",
    "    \"disgust\":\"disgust\",\n",
    "    \"fear\":\"fear\",\n",
    "    \"happy\":\"happy\",\n",
    "    \"neutral\":\"neutral\",\n",
    "    \"sadness\":\"sadness\",\n",
    "    \"surprise\":\"surprise\"\n",
    "} #Name of directory of each Emotion"
   ]
  },
  {
   "cell_type": "code",
   "execution_count": 2,
   "metadata": {},
   "outputs": [],
   "source": [
    "def getSVXFiles(fd):\n",
    "    return glob.glob(fd + '/*.svx')"
   ]
  },
  {
   "cell_type": "code",
   "execution_count": 3,
   "metadata": {},
   "outputs": [],
   "source": [
    "def readSVX(file, frame):\n",
    "    f = open(file,'rb') #Open file to read\n",
    "    \n",
    "    f.seek(128) #Skip 128bits\n",
    "    [CA,CB] = np.divide(np.frombuffer(f.read(8), dtype=np.dtype('<i4'), count=2), 2**16)\n",
    "    #Array from buffer\n",
    "    #Data type: int32 (4 bytes/each - 'i4') \n",
    "    #Byte-order:  Litte-endian ('<')\n",
    "    \n",
    "    f.seek(1104) #Move to first frame to read\n",
    "    \n",
    "    img3d = np.zeros((frame,240,320))\n",
    "    \n",
    "    for i in range (0,frame):\n",
    "        img = np.frombuffer(f.read(153600),dtype=np.dtype('>i2'))\n",
    "        #Array from buffer\n",
    "        #Data type: int16 (2 bytes/each - 'i2') \n",
    "        #Byte-order:  Big-endian ('>')\n",
    "        img = img.dot(CB) + CA\n",
    "\n",
    "        img2d = img.reshape(240,320) #Reshape 1 Dimension to 2 Dimensions for each frame\n",
    "        img3d[i] = img2d #Add frame to array of frames\n",
    "        \n",
    "        f.seek(2592,1) #Move to next frame to read\n",
    "\n",
    "    img3d = img3d.transpose(1,2,0) #Transpose to 240x320x[frame]\n",
    "    f.close()\n",
    "    return img3d"
   ]
  },
  {
   "cell_type": "code",
   "execution_count": 4,
   "metadata": {},
   "outputs": [],
   "source": [
    "#readSVX(dbDir+eDir[\"angry\"]+\"/anan1.svx\",2)"
   ]
  },
  {
   "cell_type": "code",
   "execution_count": 5,
   "metadata": {},
   "outputs": [],
   "source": [
    "###\n",
    "#* Parameter: \n",
    "#*\n",
    "#* -  fd: folder\n",
    "def loadThermalGlasses(fd, frame):\n",
    "    files = getSVXFiles(fd) #Get list SVX files in folder\n",
    "    faces = []\n",
    "    \n",
    "    for file in files:\n",
    "        data = readSVX(file,frame).transpose(2,0,1) #Transpose to [frame]x240x320\n",
    "        \n",
    "        for i in range(frame-21, frame, 8):\n",
    "            faces += [data[i]]\n",
    "            \n",
    "    print('Total faces: ', len(faces))\n",
    "    return faces"
   ]
  },
  {
   "cell_type": "code",
   "execution_count": 6,
   "metadata": {
    "scrolled": true
   },
   "outputs": [
    {
     "name": "stdout",
     "output_type": "stream",
     "text": [
      "Total faces:  42\n"
     ]
    }
   ],
   "source": [
    "faces = loadThermalGlasses(dbDir + eDir[\"angry\"],300)"
   ]
  },
  {
   "cell_type": "code",
   "execution_count": 7,
   "metadata": {},
   "outputs": [],
   "source": [
    "def divideDataset(faces):\n",
    "    #Divide Dataset into 2, 70% for training & 30% for testing\n",
    "    train = []\n",
    "    test = []\n",
    "    dsLength = len(faces)\n",
    "    limitTest = dsLength*30//100\n",
    "    \n",
    "    for face in faces:\n",
    "        if len(test) < limitTest and random.randint(1,10) >= 7:\n",
    "            test += [face]\n",
    "        else: \n",
    "            train += [face]\n",
    "    \n",
    "    return [train,test]"
   ]
  },
  {
   "cell_type": "code",
   "execution_count": 8,
   "metadata": {},
   "outputs": [
    {
     "name": "stdout",
     "output_type": "stream",
     "text": [
      "30 12\n"
     ]
    }
   ],
   "source": [
    "[train,test] = divideDataset(faces)\n",
    "\n",
    "print(len(train),len(test))"
   ]
  },
  {
   "cell_type": "code",
   "execution_count": 9,
   "metadata": {},
   "outputs": [],
   "source": [
    "def meanface(faces):\n",
    "    total = np.zeros(faces[0].shape)\n",
    "    count = len(faces)\n",
    "    \n",
    "    total = sum(faces)\n",
    "    \n",
    "    return total / count"
   ]
  },
  {
   "cell_type": "code",
   "execution_count": 10,
   "metadata": {},
   "outputs": [],
   "source": [
    "#meanface(train)"
   ]
  },
  {
   "cell_type": "code",
   "execution_count": 28,
   "metadata": {},
   "outputs": [],
   "source": [
    "# TODO: Read about SVD function\n",
    "def training(faces, trainedFiles, k):\n",
    "    avg = meanface(faces)\n",
    "    \n",
    "    M = []\n",
    "    for face in faces:\n",
    "        W = face - avg\n",
    "        M += [W.reshape(-1)]\n",
    "    M = np.array(M).transpose()\n",
    "    print(M.shape)\n",
    "    [U,W,V] = svds(M, full_matrics=True)\n",
    "    print(U.shape)\n",
    "    print(W.shape)\n",
    "    print(V.shape)\n",
    "    print(U[0])"
   ]
  },
  {
   "cell_type": "code",
   "execution_count": 29,
   "metadata": {},
   "outputs": [
    {
     "name": "stdout",
     "output_type": "stream",
     "text": [
      "(76800, 30)\n"
     ]
    },
    {
     "ename": "TypeError",
     "evalue": "svds() got an unexpected keyword argument 'full_matrics'",
     "output_type": "error",
     "traceback": [
      "\u001b[1;31m---------------------------------------------------------------------------\u001b[0m",
      "\u001b[1;31mTypeError\u001b[0m                                 Traceback (most recent call last)",
      "\u001b[1;32m<ipython-input-29-0531627ccdaf>\u001b[0m in \u001b[0;36m<module>\u001b[1;34m()\u001b[0m\n\u001b[1;32m----> 1\u001b[1;33m \u001b[0mtraining\u001b[0m\u001b[1;33m(\u001b[0m\u001b[0mtrain\u001b[0m\u001b[1;33m,\u001b[0m\u001b[1;34m'abc'\u001b[0m\u001b[1;33m,\u001b[0m\u001b[1;36m15\u001b[0m\u001b[1;33m)\u001b[0m\u001b[1;33m\u001b[0m\u001b[0m\n\u001b[0m",
      "\u001b[1;32m<ipython-input-28-cd1a79db378f>\u001b[0m in \u001b[0;36mtraining\u001b[1;34m(faces, trainedFiles, k)\u001b[0m\n\u001b[0;32m      8\u001b[0m     \u001b[0mM\u001b[0m \u001b[1;33m=\u001b[0m \u001b[0mnp\u001b[0m\u001b[1;33m.\u001b[0m\u001b[0marray\u001b[0m\u001b[1;33m(\u001b[0m\u001b[0mM\u001b[0m\u001b[1;33m)\u001b[0m\u001b[1;33m.\u001b[0m\u001b[0mtranspose\u001b[0m\u001b[1;33m(\u001b[0m\u001b[1;33m)\u001b[0m\u001b[1;33m\u001b[0m\u001b[0m\n\u001b[0;32m      9\u001b[0m     \u001b[0mprint\u001b[0m\u001b[1;33m(\u001b[0m\u001b[0mM\u001b[0m\u001b[1;33m.\u001b[0m\u001b[0mshape\u001b[0m\u001b[1;33m)\u001b[0m\u001b[1;33m\u001b[0m\u001b[0m\n\u001b[1;32m---> 10\u001b[1;33m     \u001b[1;33m[\u001b[0m\u001b[0mU\u001b[0m\u001b[1;33m,\u001b[0m\u001b[0mW\u001b[0m\u001b[1;33m,\u001b[0m\u001b[0mV\u001b[0m\u001b[1;33m]\u001b[0m \u001b[1;33m=\u001b[0m \u001b[0msvds\u001b[0m\u001b[1;33m(\u001b[0m\u001b[0mM\u001b[0m\u001b[1;33m,\u001b[0m \u001b[0mfull_matrics\u001b[0m\u001b[1;33m=\u001b[0m\u001b[1;32mTrue\u001b[0m\u001b[1;33m)\u001b[0m\u001b[1;33m\u001b[0m\u001b[0m\n\u001b[0m\u001b[0;32m     11\u001b[0m     \u001b[0mprint\u001b[0m\u001b[1;33m(\u001b[0m\u001b[0mU\u001b[0m\u001b[1;33m.\u001b[0m\u001b[0mshape\u001b[0m\u001b[1;33m)\u001b[0m\u001b[1;33m\u001b[0m\u001b[0m\n\u001b[0;32m     12\u001b[0m     \u001b[0mprint\u001b[0m\u001b[1;33m(\u001b[0m\u001b[0mW\u001b[0m\u001b[1;33m.\u001b[0m\u001b[0mshape\u001b[0m\u001b[1;33m)\u001b[0m\u001b[1;33m\u001b[0m\u001b[0m\n",
      "\u001b[1;31mTypeError\u001b[0m: svds() got an unexpected keyword argument 'full_matrics'"
     ]
    }
   ],
   "source": [
    "training(train,'abc',15)"
   ]
  },
  {
   "cell_type": "code",
   "execution_count": null,
   "metadata": {},
   "outputs": [],
   "source": []
  }
 ],
 "metadata": {
  "kernelspec": {
   "display_name": "Python 3",
   "language": "python",
   "name": "python3"
  },
  "language_info": {
   "codemirror_mode": {
    "name": "ipython",
    "version": 3
   },
   "file_extension": ".py",
   "mimetype": "text/x-python",
   "name": "python",
   "nbconvert_exporter": "python",
   "pygments_lexer": "ipython3",
   "version": "3.7.0"
  }
 },
 "nbformat": 4,
 "nbformat_minor": 2
}
