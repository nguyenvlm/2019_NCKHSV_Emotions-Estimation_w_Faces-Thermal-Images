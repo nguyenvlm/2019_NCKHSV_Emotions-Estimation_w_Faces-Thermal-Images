{
 "cells": [
  {
   "cell_type": "code",
   "execution_count": 17,
   "metadata": {},
   "outputs": [],
   "source": [
    "# Human's emotion recognition using thermal images\n",
    "import numpy as np\n",
    "import glob\n",
    "import random\n",
    "from numpy.linalg import svd as svd\n",
    "from configparser import ConfigParser\n",
    "\n",
    "np.set_printoptions(threshold=np.inf)\n",
    "\n",
    "# Load db config:\n",
    "dbconfig = ConfigParser()\n",
    "dbconfig.read('database.ini')\n",
    "\n",
    "# Assign dbDir with local config:\n",
    "dbDir = dbconfig['LOCAL']['location'] #Database directory\n",
    "eDir = {\n",
    "    \"angry\":\"anger\",\n",
    "    \"disgusted\":\"disgust\",\n",
    "    \"fear\":\"fear\",\n",
    "    \"happy\":\"happy\",\n",
    "    \"neutral\":\"neutral\",\n",
    "    \"sad\":\"sadness\",\n",
    "    \"surprised\":\"surprise\"\n",
    "} #Name of directory of each Emotion"
   ]
  },
  {
   "cell_type": "code",
   "execution_count": 18,
   "metadata": {},
   "outputs": [],
   "source": [
    "def getSVXFiles(fd):\n",
    "    return glob.glob(fd + '/*.svx')"
   ]
  },
  {
   "cell_type": "code",
   "execution_count": 19,
   "metadata": {},
   "outputs": [],
   "source": [
    "def readSVX(file, frame):\n",
    "    f = open(file,'rb') #Open file to read\n",
    "    \n",
    "    f.seek(128) #Skip 128bits\n",
    "    [CA,CB] = np.divide(np.frombuffer(f.read(8), dtype=np.dtype('<i4'), count=2), 2**16)\n",
    "    #Array from buffer\n",
    "    #Data type: int32 (4 bytes/each - 'i4') \n",
    "    #Byte-order:  Litte-endian ('<')\n",
    "    \n",
    "    f.seek(1104) #Move to first frame to read\n",
    "    \n",
    "    img3d = np.zeros((frame,240,320))\n",
    "    \n",
    "    for i in range (0,frame):\n",
    "        img = np.frombuffer(f.read(153600),dtype=np.dtype('>i2'))\n",
    "        #Array from buffer\n",
    "        #Data type: int16 (2 bytes/each - 'i2') \n",
    "        #Byte-order:  Big-endian ('>')\n",
    "        img = img.dot(CB) + CA\n",
    "\n",
    "        img2d = img.reshape(240,320) #Reshape 1 Dimension to 2 Dimensions for each frame\n",
    "        img3d[i] = img2d #Add frame to array of frames\n",
    "        \n",
    "        f.seek(2592,1) #Move to next frame to read\n",
    "\n",
    "\n",
    "    f.close()\n",
    "    return img3d\n",
    "\n",
    "\n",
    "#readSVX(dbDir+eDir[\"angry\"]+\"/anan1.svx\",2)"
   ]
  },
  {
   "cell_type": "code",
   "execution_count": 20,
   "metadata": {},
   "outputs": [],
   "source": [
    "###\n",
    "#* Parameter: \n",
    "#*\n",
    "#* -  fd: folder\n",
    "def loadThermalGlasses(fd, frame):\n",
    "    files = getSVXFiles(fd) #Get list SVX files in folder\n",
    "    faces = []\n",
    "    \n",
    "    for file in files:\n",
    "        data = readSVX(file,frame)\n",
    "        \n",
    "        for i in range(frame-21, frame, 8):\n",
    "            faces += [data[i]]\n",
    "            \n",
    "    print('Total faces: ', len(faces))\n",
    "    return faces"
   ]
  },
  {
   "cell_type": "code",
   "execution_count": 21,
   "metadata": {
    "scrolled": true
   },
   "outputs": [
    {
     "name": "stdout",
     "output_type": "stream",
     "text": [
      "Total faces:  42\n"
     ]
    }
   ],
   "source": [
    "faces = loadThermalGlasses(dbDir + eDir[\"angry\"],300)"
   ]
  },
  {
   "cell_type": "code",
   "execution_count": 22,
   "metadata": {},
   "outputs": [],
   "source": [
    "def divideDataset(faces):\n",
    "    #Divide Dataset into 2, 70% for training & 30% for testing\n",
    "    train = []\n",
    "    test = []\n",
    "    dsLength = len(faces)\n",
    "    limitTest = dsLength*0.3\n",
    "    \n",
    "    for face in faces:\n",
    "        if len(test) < limitTest and random.randint(1,10) >= 7:\n",
    "            test += [face]\n",
    "        else: \n",
    "            train += [face]\n",
    "    \n",
    "    return [train,test]"
   ]
  },
  {
   "cell_type": "code",
   "execution_count": 23,
   "metadata": {},
   "outputs": [
    {
     "name": "stdout",
     "output_type": "stream",
     "text": [
      "29 13\n"
     ]
    }
   ],
   "source": [
    "[train,test] = divideDataset(faces)\n",
    "\n",
    "print(len(train),len(test))"
   ]
  },
  {
   "cell_type": "code",
   "execution_count": 24,
   "metadata": {},
   "outputs": [],
   "source": [
    "def meanface(faces):\n",
    "    total = np.zeros(faces[0].shape)\n",
    "    count = len(faces)\n",
    "    \n",
    "    total = sum(faces)\n",
    "    \n",
    "    return total / count"
   ]
  },
  {
   "cell_type": "code",
   "execution_count": 25,
   "metadata": {},
   "outputs": [],
   "source": [
    "#meanface(train)"
   ]
  },
  {
   "cell_type": "code",
   "execution_count": 26,
   "metadata": {},
   "outputs": [],
   "source": [
    "# TODO: Read about SVD function\n",
    "def training(faces, trainedFiles, k):\n",
    "    avg = meanface(faces)\n",
    "    \n",
    "    M = []\n",
    "    for face in faces:\n",
    "        W = face - avg\n",
    "#         print(W.shape)\n",
    "        M += [W.reshape(-1)] # Convert face to 1 dimension \n",
    "    M = np.array(M).transpose()\n",
    "    print(M.shape)\n",
    "    [U,W,V] = svd(M, full_matrices = False)\n",
    "    print(U.shape)\n",
    "    print(W.shape)\n",
    "    print(V.shape)\n",
    "#     print(M[:,0])\n",
    "    trainweights = []\n",
    "#     print(U.transpose())\n",
    "    Ut = U.transpose()\n",
    "    for i in range(0, M.shape[1]):\n",
    "        trainweights += [Ut * M[:,i]]\n",
    "    trainweights = np.array(trainweights)\n",
    "    print(trainweights.shape)"
   ]
  },
  {
   "cell_type": "code",
   "execution_count": 27,
   "metadata": {},
   "outputs": [
    {
     "name": "stdout",
     "output_type": "stream",
     "text": [
      "(76800, 29)\n",
      "(76800, 29)\n",
      "(29,)\n",
      "(29, 29)\n",
      "(29, 29, 76800)\n"
     ]
    }
   ],
   "source": [
    "training(train,'abc',15)"
   ]
  },
  {
   "cell_type": "code",
   "execution_count": 29,
   "metadata": {},
   "outputs": [
    {
     "data": {
      "text/plain": [
       "(240, 320)"
      ]
     },
     "execution_count": 29,
     "metadata": {},
     "output_type": "execute_result"
    }
   ],
   "source": [
    "test[0].shape"
   ]
  },
  {
   "cell_type": "code",
   "execution_count": null,
   "metadata": {},
   "outputs": [],
   "source": [
    "print(M[::][0])"
   ]
  }
 ],
 "metadata": {
  "kernelspec": {
   "display_name": "Python 3",
   "language": "python",
   "name": "python3"
  },
  "language_info": {
   "codemirror_mode": {
    "name": "ipython",
    "version": 3
   },
   "file_extension": ".py",
   "mimetype": "text/x-python",
   "name": "python",
   "nbconvert_exporter": "python",
   "pygments_lexer": "ipython3",
   "version": "3.7.0"
  }
 },
 "nbformat": 4,
 "nbformat_minor": 2
}
