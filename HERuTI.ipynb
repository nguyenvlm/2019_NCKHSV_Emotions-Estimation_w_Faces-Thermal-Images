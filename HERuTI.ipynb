{
 "cells": [
  {
   "cell_type": "code",
   "execution_count": 1,
   "metadata": {},
   "outputs": [],
   "source": [
    "# Human's emotion recognition using thermal images\n",
    "import numpy as np\n",
    "import glob\n",
    "import random\n",
    "from numpy.linalg import svd as svd\n",
    "from configparser import ConfigParser\n",
    "\n",
    "np.set_printoptions(threshold=np.inf)\n",
    "\n",
    "# Load db config:\n",
    "dbconfig = ConfigParser()\n",
    "dbconfig.read('database.ini')\n",
    "\n",
    "# Assign dbDir with local config:\n",
    "dbDir = dbconfig['LOCAL']['location'] #Database directory\n",
    "eDir = {\n",
    "    \"angry\":\"anger\",\n",
    "    \"fear\":\"fear\",\n",
    "    \"happy\":\"happy\",\n",
    "    \"sad\":\"sadness\",\n",
    "    \"neutral\":\"neutral\"\n",
    "} #Name of directory of each Emotion"
   ]
  },
  {
   "cell_type": "code",
   "execution_count": 5,
   "metadata": {},
   "outputs": [],
   "source": [
    "def getSVXFiles(fd):\n",
    "    return glob.glob(fd + '/*.svx')\n",
    "\n",
    "def readSVX(file, frame_limit = 6990):\n",
    "    # Default frame_limit is based on the requirement of at least 1GB of free RAM (6990B*153600B ~~ 1GB)\n",
    "    \n",
    "    f = open(file,'rb') #Open file to read\n",
    "    f.seek(128) #Skip 128bytes\n",
    "    \n",
    "    [CA,CB] = np.divide(np.frombuffer(f.read(8), dtype=np.dtype('<i4'), count=2), 2**16)\n",
    "    #Array from buffer\n",
    "    #Data type: int32 (4 bytes/each - 'i4') \n",
    "    #Byte-order:  Litte-endian ('<')\n",
    "    \n",
    "    f.seek(1104) #Move to first frame to read\n",
    "    \n",
    "    list_img2d = []\n",
    "    \n",
    "    for i in range (0,frame_limit):\n",
    "        buffer = f.read(153600)\n",
    "        if len(buffer) < 153600:\n",
    "            break\n",
    "        img = np.frombuffer(buffer,dtype=np.dtype('>i2'))\n",
    "        #Array from buffer\n",
    "        #Data type: int16 (2 bytes/each - 'i2') \n",
    "        #Byte-order:  Big-endian ('>')\n",
    "        img = img.dot(CB) + CA\n",
    "\n",
    "        img2d = img.reshape(240,320) #Reshape 1 Dimension to 2 Dimensions for each frame\n",
    "        list_img2d.append(img2d) #Add frame to array of frames\n",
    "        \n",
    "        f.seek(2592,1) #Move to next frame to read\n",
    "    \n",
    "    f.close()\n",
    "    return np.array(list_img2d)\n"
   ]
  },
  {
   "cell_type": "code",
   "execution_count": 4,
   "metadata": {},
   "outputs": [
    {
     "name": "stdout",
     "output_type": "stream",
     "text": [
      "i:\\Thermal Database Ver2.0\\anger\\anan1.svx frames =  3170\n",
      "i:\\Thermal Database Ver2.0\\anger\\chinha2.SVX frames =  3304\n",
      "i:\\Thermal Database Ver2.0\\anger\\cuonga1.svx frames =  3143\n",
      "i:\\Thermal Database Ver2.0\\anger\\khanha2.SVX frames =  3134\n",
      "i:\\Thermal Database Ver2.0\\anger\\LamA1.svx frames =  3117\n",
      "i:\\Thermal Database Ver2.0\\anger\\maya1vx.SVX frames =  3167\n",
      "i:\\Thermal Database Ver2.0\\anger\\Nama1.svx frames =  3213\n",
      "i:\\Thermal Database Ver2.0\\anger\\nguyetanger1.SVX frames =  3181\n",
      "i:\\Thermal Database Ver2.0\\anger\\nhata1.svx frames =  3194\n",
      "i:\\Thermal Database Ver2.0\\anger\\Nhatangry1.svx frames =  3160\n",
      "i:\\Thermal Database Ver2.0\\anger\\quana1.svx frames =  3250\n",
      "i:\\Thermal Database Ver2.0\\anger\\thaoa1.SVX frames =  3258\n",
      "i:\\Thermal Database Ver2.0\\anger\\thoa1.SVX frames =  3157\n",
      "i:\\Thermal Database Ver2.0\\anger\\vieta1.svx frames =  3166\n"
     ]
    }
   ],
   "source": [
    "# Demo reading imgs from SVX Files:\n",
    "import resource\n",
    "# train = []\n",
    "for file in getSVXFiles(dbDir+eDir['angry']):\n",
    "    data = readSVX(file)\n",
    "    print(file, 'frames = ', len(data))\n",
    "#     train.extend(data)\n",
    "    data = None\n",
    "    print('Total memory allocated: ',resource.getrusage(resource.RUSAGE_SELF).ru_maxrss,'KB')"
   ]
  }
 ],
 "metadata": {
  "kernelspec": {
   "display_name": "Python 3",
   "language": "python",
   "name": "python3"
  },
  "language_info": {
   "codemirror_mode": {
    "name": "ipython",
    "version": 3
   },
   "file_extension": ".py",
   "mimetype": "text/x-python",
   "name": "python",
   "nbconvert_exporter": "python",
   "pygments_lexer": "ipython3",
   "version": "3.7.0"
  }
 },
 "nbformat": 4,
 "nbformat_minor": 2
}
