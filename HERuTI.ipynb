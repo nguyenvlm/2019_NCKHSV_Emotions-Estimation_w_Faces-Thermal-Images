{
 "cells": [
  {
   "cell_type": "markdown",
   "metadata": {},
   "source": [
    "# Human's emotion recognition using thermal images\n",
    "## *TEACHER: NGUYEN VIET HUNG*\n",
    "## *MEMBER*\n",
    "- Vuong Le Minh Nguyen\n",
    "- Luong Cong Tam"
   ]
  },
  {
   "cell_type": "markdown",
   "metadata": {},
   "source": [
    "#### Import Library & Settings"
   ]
  },
  {
   "cell_type": "code",
   "execution_count": null,
   "metadata": {},
   "outputs": [],
   "source": [
    "import pandas as pd\n",
    "import sklearn\n",
    "import scipy\n",
    "import numpy as np\n",
    "import matplotlib.pyplot as plt\n",
    "import cv2\n",
    "import glob\n",
    "import random\n",
    "import IPython.display as display\n",
    "from configparser import ConfigParser\n",
    "from time import sleep\n",
    "\n",
    "np.set_printoptions(threshold=np.inf) # Setting for full numpy matrices printing"
   ]
  },
  {
   "cell_type": "code",
   "execution_count": null,
   "metadata": {},
   "outputs": [],
   "source": [
    "# Load db config:\n",
    "dbconfig = ConfigParser()\n",
    "dbconfig.read('database.ini')\n",
    "\n",
    "# Assign dbDir with local config:\n",
    "dbDir = dbconfig['LOCAL']['location'] #Database directory\n",
    "eDir = {\n",
    "    \"angry\":\"anger\",\n",
    "    \"fear\":\"fear\",\n",
    "    \"happy\":\"happy\",\n",
    "    \"sad\":\"sadness\",\n",
    "    \"neutral\":\"neutral\"\n",
    "} #Name of directory of each Emotion"
   ]
  },
  {
   "cell_type": "markdown",
   "metadata": {},
   "source": [
    "#### Function definition"
   ]
  },
  {
   "cell_type": "code",
   "execution_count": null,
   "metadata": {},
   "outputs": [],
   "source": [
    "def frameShow(frame, ):\n",
    "    w, h = frame.shape\n",
    "    _, ret = cv2.imencode('.jpg',frame)\n",
    "    i = display.Image(data=ret, width = w*3, height = h*3)\n",
    "    display.display(i)\n",
    "    sleep(0.05)\n",
    "    display.clear_output(True)"
   ]
  },
  {
   "cell_type": "code",
   "execution_count": null,
   "metadata": {},
   "outputs": [],
   "source": [
    "def getSVXFiles(fd):\n",
    "    return glob.glob(fd + '/*.svx') + glob.glob(fd + '/*.SVX')"
   ]
  },
  {
   "cell_type": "code",
   "execution_count": null,
   "metadata": {},
   "outputs": [],
   "source": [
    "def readSVX(file, frame_limit = 6990):\n",
    "    # Default frame_limit is based on the requirement of at least 1GB of free RAM (6990*153600B ~~ 1GB)\n",
    "    # Open file to read:\n",
    "    f = open(file,'rb') \n",
    "    \n",
    "    # Skip 128 bytes from the file's beginning:\n",
    "    f.seek(128) \n",
    "    \n",
    "    # Calculate grayscale converter:\n",
    "    [CA,CB] = np.divide(np.frombuffer(f.read(8), dtype=np.dtype('<i4'), count=2), 2**16)\n",
    "    #Array from buffer\n",
    "    #Data type: int32 (4 bytes/each - 'i4') \n",
    "    #Byte-order:  Litte-endian ('<')\n",
    "    \n",
    "    # Skip to the beginning of first frame to start reading:\n",
    "    f.seek(1104) \n",
    "    \n",
    "    list_img2d = []\n",
    "\n",
    "    for i in range (0,frame_limit):\n",
    "        buffer = f.read(153600)\n",
    "        \n",
    "        # Check EOF:\n",
    "        if len(buffer) < 153600:\n",
    "            break\n",
    "        \n",
    "        img = np.frombuffer(buffer,dtype=np.dtype('>i2'))\n",
    "        #Array from buffer\n",
    "        #Data type: int16 (2 bytes/each - 'i2') \n",
    "        #Byte-order:  Big-endian ('>')\n",
    "        \n",
    "        # Convert read img to grayscale (temperature) using converter, then reshape from 1D to 2D:\n",
    "        img2d = (img * CB + CA).reshape(240,320)\n",
    "        \n",
    "        # Add read frame to the result array:\n",
    "        list_img2d.append(img2d) \n",
    "        \n",
    "#         frameShow(img2d)\n",
    "#         getFace(img2d)\n",
    "        \n",
    "#         sleep(0.75)\n",
    "    \n",
    "        # Move to the beginning of next frame to continue reading:\n",
    "        f.seek(2592,1) \n",
    "    \n",
    "    f.close()\n",
    "    return np.array(list_img2d)"
   ]
  },
  {
   "cell_type": "code",
   "execution_count": null,
   "metadata": {
    "slideshow": {
     "slide_type": "subslide"
    }
   },
   "outputs": [],
   "source": [
    "def getROI(frame):\n",
    "    tMax = np.amax(frame)\n",
    "    tMin = np.amin(frame)\n",
    "    # TODO: Continue writing getROIfunction"
   ]
  },
  {
   "cell_type": "code",
   "execution_count": null,
   "metadata": {},
   "outputs": [],
   "source": [
    "def getFace(frame, minTemp = 30.0, fitEllipsePoint = 20, faceBox = (220,180)):\n",
    "    # TODO - getFace function\n",
    "    xFrame, yFrame = frame.shape\n",
    "    topEdge, rightEdge, bottomEdge, leftEdge = xFrame, 0, 0, yFrame\n",
    "    ret = np.copy(frame) # Do not change anythings in input array\n",
    "    \n",
    "    for x in range(xFrame):\n",
    "        for y in range(yFrame):\n",
    "            if (ret[x][y] < minTemp):\n",
    "                ret[x][y] = 5\n",
    "            else:\n",
    "                topEdge = min(topEdge, x)\n",
    "                rightEdge = max(rightEdge, y)\n",
    "                bottomEdge = max(bottomEdge, x)\n",
    "                if x <= (topEdge + faceBox[0])/2:\n",
    "                    leftEdge = min(leftEdge, y)            \n",
    "                    \n",
    "    \n",
    "    \n",
    "#     print(topEdge, rightEdge, bottomEdge, leftEdge)\n",
    "    \n",
    "    ret = ret[topEdge:topEdge+220, leftEdge:leftEdge+190]\n",
    "#     plt.imshow(ret[topEdge:bottomEdge, leftEdge:rightEdge])\n",
    "#     print(type(ret[0][0]))\n",
    "    topEdge = max(topEdge - 10, 0)\n",
    "    leftEdge = max(leftEdge -10, 0)\n",
    "    \n",
    "#     sliced = np.uint8(ret[topEdge:topEdge+faceBox[0], leftEdge:leftEdge+faceBox[1]])\n",
    "    sliced = np.uint8(ret)\n",
    "\n",
    "#     print(sliced[topEdge:topEdge+faceBox[0], leftEdge:leftEdge+faceBox[1]])\n",
    "    blured = cv2.GaussianBlur(sliced.copy(),(5,5),1)\n",
    "    cannied = cv2.Canny(blured,20,60)\n",
    "    \n",
    "    kernel = cv2.getStructuringElement(cv2.MORPH_ELLIPSE,(15,15))\n",
    "    cannied = cv2.dilate(cannied, kernel)\n",
    "    \n",
    "    _, contours, hierarchy = cv2.findContours(cannied, cv2.RETR_TREE, cv2.CHAIN_APPROX_SIMPLE)\n",
    "    drawedContours = cv2.drawContours(blured,contours,-1,(255,0,0), 1)\n",
    "    \n",
    "#     print(hierarchy)\n",
    "#     print(contours)\n",
    "    minEllipse = [None]*len(contours)\n",
    "    \n",
    "    for i, c in enumerate(contours):\n",
    "#         print(i,c)\n",
    "        if c.shape[0]>fitEllipsePoint and hierarchy[0, i, 3] == -1:\n",
    "            minEllipse[i] = cv2.fitEllipse(c)\n",
    "            \n",
    "    drawing = np.zeros((sliced.shape[0], sliced.shape[1], 3), dtype=np.uint8)\n",
    "    mask = drawing.copy()\n",
    "    for i, c in enumerate(contours):\n",
    "        color = (random.randint(0,256), random.randint(0,256), random.randint(0,256))\n",
    "#         # contour\n",
    "#         cv2.drawContours(drawing, contours, i, color)\n",
    "        # ellipse\n",
    "        if c.shape[0]>fitEllipsePoint and hierarchy[0, i, 3] == -1:\n",
    "            cv2.ellipse(drawing, minEllipse[i], color, -1)\n",
    "            cv2.ellipse(mask, minEllipse[i], color=(255,255,255), thickness = -1)\n",
    "            \n",
    "#     print(ret.shape, mask[:, :, 0].shape)\n",
    "    \n",
    "    mask = cv2.cvtColor(mask, cv2.COLOR_RGB2GRAY)\n",
    "    \n",
    "    mask = np.float64(mask)\n",
    "    \n",
    "    print(mask)\n",
    "        \n",
    "    cropped = cv2.bitwise_and(ret, mask)\n",
    "    \n",
    "#     print(cropped)\n",
    "    \n",
    "    plt.subplot(121)\n",
    "#     plt.imshow(ret[topEdge:topEdge+faceBox[0], leftEdge:leftEdge+faceBox[1]])\n",
    "    plt.imshow(ret)\n",
    "\n",
    "    plt.subplot(122)\n",
    "    plt.imshow(cannied)\n",
    "    \n",
    "    plt.show()\n",
    "    \n",
    "    plt.subplot(121)\n",
    "    plt.imshow(drawedContours)\n",
    "    plt.subplot(122)\n",
    "    plt.imshow(mask)\n",
    "    \n",
    "    plt.show()"
   ]
  },
  {
   "cell_type": "code",
   "execution_count": null,
   "metadata": {},
   "outputs": [],
   "source": [
    "def frameCaRs(frame, width, height):\n",
    "    # TODO - frame Crop and Resize function\n",
    "    return 0"
   ]
  },
  {
   "cell_type": "code",
   "execution_count": null,
   "metadata": {
    "slideshow": {
     "slide_type": "-"
    }
   },
   "outputs": [],
   "source": [
    "# Demo reading imgs from SVX Files:\n",
    "train = []\n",
    "for file in getSVXFiles(dbDir+eDir['fear']):\n",
    "    data = readSVX(file, 10)\n",
    "    print(file, 'frames = ', len(data))\n",
    "    train.extend(data)\n",
    "    data = None"
   ]
  },
  {
   "cell_type": "code",
   "execution_count": null,
   "metadata": {},
   "outputs": [],
   "source": [
    "for i in range(len(train)//10):\n",
    "    getFace(train[i*10], 29.50, 100)"
   ]
  },
  {
   "cell_type": "code",
   "execution_count": null,
   "metadata": {},
   "outputs": [],
   "source": []
  }
 ],
 "metadata": {
  "kernelspec": {
   "display_name": "Python 3",
   "language": "python",
   "name": "python3"
  },
  "language_info": {
   "codemirror_mode": {
    "name": "ipython",
    "version": 3
   },
   "file_extension": ".py",
   "mimetype": "text/x-python",
   "name": "python",
   "nbconvert_exporter": "python",
   "pygments_lexer": "ipython3",
   "version": "3.6.7"
  }
 },
 "nbformat": 4,
 "nbformat_minor": 2
}
