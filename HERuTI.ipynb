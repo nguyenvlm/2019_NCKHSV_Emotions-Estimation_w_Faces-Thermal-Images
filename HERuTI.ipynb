{
 "cells": [
  {
   "cell_type": "markdown",
   "metadata": {},
   "source": [
    "# Human's emotion recognition using thermal images\n",
    "## *TEACHER: NGUYEN VIET HUNG*\n",
    "## *MEMBER*\n",
    "- Vuong Le Minh Nguyen\n",
    "- Luong Cong Tam"
   ]
  },
  {
   "cell_type": "markdown",
   "metadata": {},
   "source": [
    "#### Import Library & Settings"
   ]
  },
  {
   "cell_type": "code",
   "execution_count": 1,
   "metadata": {},
   "outputs": [],
   "source": [
    "import pandas as pd\n",
    "import sklearn\n",
    "import scipy\n",
    "import numpy as np\n",
    "import matplotlib.pyplot as plt\n",
    "from xgboost import XGBClassifier\n",
    "from sklearn.ensemble import RandomForestClassifier\n",
    "import cv2\n",
    "import glob\n",
    "import random\n",
    "import IPython.display as display\n",
    "from configparser import ConfigParser\n",
    "import re\n",
    "from time import sleep\n",
    "\n",
    "np.set_printoptions(threshold=np.inf) # Setting for full numpy matrices printin"
   ]
  },
  {
   "cell_type": "code",
   "execution_count": 2,
   "metadata": {},
   "outputs": [],
   "source": [
    "# Load db config:\n",
    "dbconfig = ConfigParser()\n",
    "dbconfig.read('database.ini')\n",
    "\n",
    "# Assign dbDir with local config:\n",
    "dbDir = dbconfig['LOCAL']['location'] #Database directory\n",
    "eDir = {\n",
    "    \"angry\":\"anger\",\n",
    "    \"fear\":\"fear\",\n",
    "    \"happy\":\"happy\",\n",
    "    \"sad\":\"sadness\",\n",
    "    \"neutral\":\"neutral\"\n",
    "} #Name of directory of each Emotion"
   ]
  },
  {
   "cell_type": "markdown",
   "metadata": {},
   "source": [
    "#### Function definition"
   ]
  },
  {
   "cell_type": "code",
   "execution_count": 3,
   "metadata": {},
   "outputs": [],
   "source": [
    "def frameShow(frame):\n",
    "    w, h = frame.shape\n",
    "    ret = cv2.imencode('.jpeg',frame)[1]\n",
    "    i = display.Image(data=ret, width = w, height = h)\n",
    "    display.display(i)\n",
    "    sleep(0.05)\n",
    "#     display.clear_output(True)"
   ]
  },
  {
   "cell_type": "code",
   "execution_count": 4,
   "metadata": {},
   "outputs": [],
   "source": [
    "def getSVXFiles(fd):\n",
    "    return glob.glob(fd + '/*.svx') + glob.glob(fd + '/*.SVX')"
   ]
  },
  {
   "cell_type": "code",
   "execution_count": 5,
   "metadata": {},
   "outputs": [],
   "source": [
    "def getGrayImage(frame, bit_depth = 8):\n",
    "    Tmax = np.amax(frame)\n",
    "    Tmin = np.amin(frame)\n",
    "    \n",
    "    # Map current frame to 8-bit grayscale:\n",
    "    lbound = np.floor(Tmin)\n",
    "    rbound = np.ceil(Tmax)\n",
    "    scale = 2**bit_depth\n",
    "    grayImg = ((frame-lbound)*scale/(rbound-lbound)).astype(np.uint8)\n",
    "    \n",
    "    return grayImg"
   ]
  },
  {
   "cell_type": "code",
   "execution_count": 73,
   "metadata": {},
   "outputs": [],
   "source": [
    "def getFace(frame, minTemp = 29.0, fitEllipsePoint = 200):\n",
    "    xFrame, yFrame = frame.shape\n",
    "    topEdge, rightEdge, bottomEdge, leftEdge = xFrame, 0, 0, yFrame\n",
    "    ret = np.insert(frame.copy(), 0, np.zeros((3, yFrame)), 0) # Do not change anythings in input array\n",
    "    \n",
    "    (x, y) = np.where(ret < minTemp)\n",
    "    ret[x, y] = 0\n",
    "    \n",
    "    (x, y) = np.where(ret[3:150, :] >= minTemp)\n",
    "    \n",
    "    topEdge = max(np.min(x) - 3, 0)\n",
    "    rightEdge = min(np.max(y) + 10, yFrame)\n",
    "    bottomEdge = xFrame\n",
    "    leftEdge = max(np.min(y) - 10, 0)\n",
    "    \n",
    "    gray = getGrayImage(ret[topEdge:bottomEdge, leftEdge:rightEdge])\n",
    "\n",
    "    blured = cv2.GaussianBlur(gray.copy(),(5,5),1)\n",
    "    cannied = cv2.Canny(blured,20,80)\n",
    "    \n",
    "    kernelSize = (5,5)\n",
    "    kernel = cv2.getStructuringElement(cv2.MORPH_CROSS,kernelSize)\n",
    "    cannied = cv2.dilate(cannied, kernel)\n",
    "    \n",
    "    _, contours, hierarchy = cv2.findContours(cannied, cv2.RETR_TREE, cv2.CHAIN_APPROX_SIMPLE)\n",
    "    drawedContours = cv2.drawContours(blured,contours,-1,(255,0,0), 1)\n",
    "    \n",
    "    maxEllipse = 0\n",
    "#     print(maxEllipse)\n",
    "    \n",
    "    # Find biggest contours\n",
    "    for i, c in enumerate(contours):\n",
    "        if c.shape[0] > contours[maxEllipse].shape[0] and c.shape[0] > fitEllipsePoint and hierarchy[0, i, 3] == -1:\n",
    "#             print(c.shape, i)\n",
    "            maxEllipse = i\n",
    "#     print(contours[maxEllipse].shape)\n",
    "    maxEllipse = cv2.fitEllipse(contours[maxEllipse])\n",
    "    rotateAngle = maxEllipse[2] if maxEllipse[2] < 90 else -(180 - maxEllipse[2])\n",
    "#     print(rotateAngle)\n",
    "            \n",
    "    drawing = np.zeros((gray.shape[0], gray.shape[1], 3), dtype=np.uint8)\n",
    "    mask = drawing.copy()\n",
    "#     for i, c in enumerate(contours):\n",
    "    color = (255, 255, 255)\n",
    "#         if c.shape[0] > fitEllipsePoint and hierarchy[0, i, 3] == -1:\n",
    "#     print(maxEllipse)\n",
    "    cv2.ellipse(drawing, maxEllipse, color, 2)\n",
    "    cv2.ellipse(mask, maxEllipse, color, -1)\n",
    "    cv2.drawContours(drawing, contours, -1, (255,0,0))\n",
    "    \n",
    "    mask = cv2.cvtColor(mask, cv2.COLOR_RGB2GRAY)\n",
    "    \n",
    "    crop = cv2.bitwise_and(gray, mask)\n",
    "    \n",
    "    cols, rows = crop.shape[1]//2, crop.shape[0]//2\n",
    "    M = cv2.getRotationMatrix2D((cols, rows), rotateAngle, 1)\n",
    "    crop = cv2.warpAffine(crop, M, (crop.shape[1], crop.shape[0]))\n",
    "    \n",
    "    (x, y) = np.where(crop != 0)\n",
    "    (topx, topy) = (np.min(x), np.min(y))\n",
    "    (bottomx, bottomy) = (np.max(x), np.max(y))\n",
    "    \n",
    "    face = crop[topx:bottomx, topy:bottomy]\n",
    "    \n",
    "    face = cv2.resize(face, (150,180))\n",
    "    \n",
    "#     plt.figure(num=None,figsize=(21,10),dpi=100)\n",
    "    \n",
    "#     plt.subplot(141)\n",
    "#     plt.imshow(gray)\n",
    "\n",
    "#     plt.subplot(142)\n",
    "#     plt.imshow(cannied)\n",
    "    \n",
    "#     plt.subplot(143)\n",
    "#     plt.imshow(drawing)\n",
    "#     plt.subplot(144)\n",
    "#     plt.imshow(face)\n",
    "    \n",
    "#     plt.show()\n",
    "    \n",
    "    return face"
   ]
  },
  {
   "cell_type": "code",
   "execution_count": 7,
   "metadata": {},
   "outputs": [],
   "source": [
    "def getTROIs(face, lowerpart, upperpart):\n",
    "    \n",
    "    # Get pixel intensities of the face:\n",
    "    intensity = np.bincount(face.flatten(), minlength = 256)\n",
    "    intensity[0] = 0 # remove all zero-meaning pixels\n",
    "    intensity = (intensity / np.sum(intensity)).tolist()\n",
    "    \n",
    "    \n",
    "    # Remove lowerpart of pixel intensities from the left and upperpart of pixel intensities from the right:\n",
    "    lo_thresh = 0\n",
    "    cnt = 0\n",
    "    for i in range(len(intensity)):\n",
    "        if (cnt + intensity[i] <= lowerpart):\n",
    "            cnt += intensity[i]\n",
    "            lo_thresh = i\n",
    "        else: break\n",
    "    \n",
    "    hi_thresh = 0\n",
    "    cnt = 0\n",
    "    for i in range(len(intensity)-1,0,-1):\n",
    "        if (cnt + intensity[i] <= upperpart):\n",
    "            cnt += intensity[i]\n",
    "            hi_thresh = i\n",
    "        else: break\n",
    "    \n",
    "    \n",
    "    # Get TROIs:\n",
    "    TROIs = face\n",
    "    TROIs[TROIs > hi_thresh] = 0\n",
    "    TROIs[TROIs < lo_thresh] = 0\n",
    "    \n",
    "    return TROIs"
   ]
  },
  {
   "cell_type": "code",
   "execution_count": 8,
   "metadata": {},
   "outputs": [],
   "source": [
    "def readIntensitiesFromSVX(file, frame_start = 0, frame_limit = 6990, frame_step=1):\n",
    "    # Default frame_limit is based on the requirement of at least 1GB of free RAM (6990*153600B ~~ 1GB)\n",
    "    # Open file to read:\n",
    "    f = open(file,'rb') \n",
    "    \n",
    "    # Skip 128 bytes from the file's beginning:\n",
    "    f.seek(128) \n",
    "    \n",
    "    # Calculate temperature converter:\n",
    "    [CA,CB] = np.divide(np.frombuffer(f.read(8), dtype=np.dtype('<i4'), count=2), 2**16)\n",
    "    #Array from buffer\n",
    "    #Data type: int32 (4 bytes/each - 'i4') \n",
    "    #Byte-order:  Litte-endian ('<')\n",
    "    \n",
    "    # Skip to the beginning of first frame to start reading:\n",
    "    f.seek(1104)\n",
    "    \n",
    "    # Skip to frame_start:\n",
    "    f.seek(frame_start*(153600+2592), 1)\n",
    "    \n",
    "    result = []\n",
    "\n",
    "    for i in range (0,frame_limit):\n",
    "        buffer = f.read(153600)\n",
    "        \n",
    "        # Check EOF:\n",
    "        if len(buffer) < 153600:\n",
    "            break\n",
    "        \n",
    "        img = np.frombuffer(buffer,dtype=np.dtype('>i2'))\n",
    "        #Array from buffer\n",
    "        #Data type: int16 (2 bytes/each - 'i2') \n",
    "        #Byte-order:  Big-endian ('>')\n",
    "        \n",
    "        # Convert read img to temperature, then reshape it from 1D to 2D, then convert it to grayscale and get Face Thermal Matrix:\n",
    "        face = getFace((img * CB + CA).reshape(240,320))\n",
    "        \n",
    "        # Get pixel intensities of the face:\n",
    "        intensity = np.bincount(face.flatten(), minlength = 256)\n",
    "        intensity[0] = 0 # remove all zero-meaning pixels\n",
    "        intensity = (intensity / np.sum(intensity)).tolist()\n",
    "        \n",
    "        # Add loaded intensities to the result array:\n",
    "        result.append(intensity)\n",
    "        \n",
    "        \n",
    "        # Move to the beginning of next frame to continue reading:\n",
    "        f.seek(2592 + (frame_step-1)*(153600+2592), 1)\n",
    "    \n",
    "    f.close()\n",
    "    return result"
   ]
  },
  {
   "cell_type": "code",
   "execution_count": 72,
   "metadata": {},
   "outputs": [],
   "source": [
    "def readTROIsFromSVX(file, frame_start = 0, frame_limit = 6990, frame_step=1):\n",
    "    # Default frame_limit is based on the requirement of at least 1GB of free RAM (6990*153600B ~~ 1GB)\n",
    "    # Open file to read:\n",
    "    if frame_step < 1:\n",
    "        from os.path import getsize\n",
    "        frame_count = (getsize(file) - (128+8+1104)) // (153600+2592)\n",
    "        frame_step = int(frame_count*frame_step)\n",
    "        \n",
    "        \n",
    "    f = open(file,'rb') \n",
    "    \n",
    "    # Skip 128 bytes from the file's beginning:\n",
    "    f.seek(128) \n",
    "    \n",
    "    # Calculate temperature converter:\n",
    "    [CA,CB] = np.divide(np.frombuffer(f.read(8), dtype=np.dtype('<i4'), count=2), 2**16)\n",
    "    #Array from buffer\n",
    "    #Data type: int32 (4 bytes/each - 'i4') \n",
    "    #Byte-order:  Litte-endian ('<')\n",
    "    \n",
    "    # Skip to the beginning of first frame to start reading:\n",
    "    f.seek(1104)\n",
    "    \n",
    "    # Skip to frame_start:\n",
    "    f.seek(frame_start*(153600+2592), 1)\n",
    "    \n",
    "    result = []\n",
    "\n",
    "    for i in range (0,frame_limit):\n",
    "        buffer = f.read(153600)\n",
    "        \n",
    "        # Check EOF:\n",
    "        if len(buffer) < 153600:\n",
    "            break\n",
    "        \n",
    "        img = np.frombuffer(buffer,dtype=np.dtype('>i2'))\n",
    "        #Array from buffer\n",
    "        #Data type: int16 (2 bytes/each - 'i2') \n",
    "        #Byte-order:  Big-endian ('>')\n",
    "        \n",
    "        # Convert read img to temperature, then reshape it from 1D to 2D, then convert it to grayscale and get Face Thermal Matrix:\n",
    "        face = getFace((img * CB + CA).reshape(240,320))\n",
    "        \n",
    "        # Get TROIs:\n",
    "        TROIs = getTROIs(face, 0.45, 0.1).reshape(150*180).tolist()\n",
    "        \n",
    "        # Add loaded TROIs to the result array:\n",
    "        result.append(TROIs)\n",
    "        \n",
    "        \n",
    "        # Move to the beginning of next frame to continue reading:\n",
    "        f.seek(2592 + (frame_step-1)*(153600+2592), 1)\n",
    "    \n",
    "    f.close()\n",
    "    return result"
   ]
  },
  {
   "cell_type": "markdown",
   "metadata": {},
   "source": [
    "#### Observe dataset"
   ]
  },
  {
   "cell_type": "code",
   "execution_count": 74,
   "metadata": {},
   "outputs": [
    {
     "data": {
      "image/png": "[encoded data removed]",
      "text/plain": [
       "<IPython.core.display.Image object>"
      ]
     },
     "metadata": {
      "image/png": {
       "height": 150,
       "width": 180
      }
     },
     "output_type": "display_data"
    },
    {
     "data": {
      "image/png": "[encoded data removed]",
      "text/plain": [
       "<IPython.core.display.Image object>"
      ]
     },
     "metadata": {
      "image/png": {
       "height": 150,
       "width": 180
      }
     },
     "output_type": "display_data"
    },
    {
     "data": {
      "image/png": "[encoded data removed]",
      "text/plain": [
       "<IPython.core.display.Image object>"
      ]
     },
     "metadata": {
      "image/png": {
       "height": 150,
       "width": 180
      }
     },
     "output_type": "display_data"
    },
    {
     "data": {
      "image/png": "[encoded data removed]",
      "text/plain": [
       "<IPython.core.display.Image object>"
      ]
     },
     "metadata": {
      "image/png": {
       "height": 150,
       "width": 180
      }
     },
     "output_type": "display_data"
    },
    {
     "name": "stdout",
     "output_type": "stream",
     "text": [
      "A total of 4 frame(s) has been loaded from file ./dataset/anger/chinha2.svx\n"
     ]
    },
    {
     "data": {
      "image/png": "[encoded data removed]",
      "text/plain": [
       "<IPython.core.display.Image object>"
      ]
     },
     "metadata": {
      "image/png": {
       "height": 150,
       "width": 180
      }
     },
     "output_type": "display_data"
    },
    {
     "data": {
      "image/png": "[encoded data removed]",
      "text/plain": [
       "<IPython.core.display.Image object>"
      ]
     },
     "metadata": {
      "image/png": {
       "height": 150,
       "width": 180
      }
     },
     "output_type": "display_data"
    },
    {
     "data": {
      "image/png": "[encoded data removed]",
      "text/plain": [
       "<IPython.core.display.Image object>"
      ]
     },
     "metadata": {
      "image/png": {
       "height": 150,
       "width": 180
      }
     },
     "output_type": "display_data"
    },
    {
     "data": {
      "image/png": "[encoded data removed]",
      "text/plain": [
       "<IPython.core.display.Image object>"
      ]
     },
     "metadata": {
      "image/png": {
       "height": 150,
       "width": 180
      }
     },
     "output_type": "display_data"
    },
    {
     "name": "stdout",
     "output_type": "stream",
     "text": [
      "A total of 4 frame(s) has been loaded from file ./dataset/anger/Nhatangry1.svx\n"
     ]
    },
    {
     "data": {
      "image/png": "[encoded data removed]",
      "text/plain": [
       "<IPython.core.display.Image object>"
      ]
     },
     "metadata": {
      "image/png": {
       "height": 150,
       "width": 180
      }
     },
     "output_type": "display_data"
    },
    {
     "data": {
      "image/png": "[encoded data removed]",
      "text/plain": [
       "<IPython.core.display.Image object>"
      ]
     },
     "metadata": {
      "image/png": {
       "height": 150,
       "width": 180
      }
     },
     "output_type": "display_data"
    },
    {
     "data": {
      "image/png": "[encoded data removed]",
      "text/plain": [
       "<IPython.core.display.Image object>"
      ]
     },
     "metadata": {
      "image/png": {
       "height": 150,
       "width": 180
      }
     },
     "output_type": "display_data"
    },
    {
     "data": {
      "image/png": "[encoded data removed]",
      "text/plain": [
       "<IPython.core.display.Image object>"
      ]
     },
     "metadata": {
      "image/png": {
       "height": 150,
       "width": 180
      }
     },
     "output_type": "display_data"
    },
    {
     "name": "stdout",
     "output_type": "stream",
     "text": [
      "A total of 4 frame(s) has been loaded from file ./dataset/anger/quana1.svx\n"
     ]
    },
    {
     "data": {
      "image/png": "[encoded data removed]",
      "text/plain": [
       "<IPython.core.display.Image object>"
      ]
     },
     "metadata": {
      "image/png": {
       "height": 150,
       "width": 180
      }
     },
     "output_type": "display_data"
    },
    {
     "data": {
      "image/png": "[encoded data removed]",
      "text/plain": [
       "<IPython.core.display.Image object>"
      ]
     },
     "metadata": {
      "image/png": {
       "height": 150,
       "width": 180
      }
     },
     "output_type": "display_data"
    },
    {
     "data": {
      "image/png": "[encoded data removed]",
      "text/plain": [
       "<IPython.core.display.Image object>"
      ]
     },
     "metadata": {
      "image/png": {
       "height": 150,
       "width": 180
      }
     },
     "output_type": "display_data"
    },
    {
     "data": {
      "image/png": "[encoded data removed]",
      "text/plain": [
       "<IPython.core.display.Image object>"
      ]
     },
     "metadata": {
      "image/png": {
       "height": 150,
       "width": 180
      }
     },
     "output_type": "display_data"
    },
    {
     "name": "stdout",
     "output_type": "stream",
     "text": [
      "A total of 4 frame(s) has been loaded from file ./dataset/anger/vieta1.svx\n"
     ]
    },
    {
     "data": {
      "image/png": "[encoded data removed]",
      "text/plain": [
       "<IPython.core.display.Image object>"
      ]
     },
     "metadata": {
      "image/png": {
       "height": 150,
       "width": 180
      }
     },
     "output_type": "display_data"
    },
    {
     "data": {
      "image/png": "[encoded data removed]",
      "text/plain": [
       "<IPython.core.display.Image object>"
      ]
     },
     "metadata": {
      "image/png": {
       "height": 150,
       "width": 180
      }
     },
     "output_type": "display_data"
    },
    {
     "data": {
      "image/png": "[encoded data removed]",
      "text/plain": [
       "<IPython.core.display.Image object>"
      ]
     },
     "metadata": {
      "image/png": {
       "height": 150,
       "width": 180
      }
     },
     "output_type": "display_data"
    },
    {
     "data": {
      "image/png": "[encoded data removed]",
      "text/plain": [
       "<IPython.core.display.Image object>"
      ]
     },
     "metadata": {
      "image/png": {
       "height": 150,
       "width": 180
      }
     },
     "output_type": "display_data"
    },
    {
     "name": "stdout",
     "output_type": "stream",
     "text": [
      "A total of 4 frame(s) has been loaded from file ./dataset/anger/Nama1.svx\n"
     ]
    },
    {
     "data": {
      "image/png": "[encoded data removed]",
      "text/plain": [
       "<IPython.core.display.Image object>"
      ]
     },
     "metadata": {
      "image/png": {
       "height": 150,
       "width": 180
      }
     },
     "output_type": "display_data"
    },
    {
     "data": {
      "image/png": "[encoded data removed]",
      "text/plain": [
       "<IPython.core.display.Image object>"
      ]
     },
     "metadata": {
      "image/png": {
       "height": 150,
       "width": 180
      }
     },
     "output_type": "display_data"
    },
    {
     "data": {
      "image/png": "[encoded data removed]",
      "text/plain": [
       "<IPython.core.display.Image object>"
      ]
     },
     "metadata": {
      "image/png": {
       "height": 150,
       "width": 180
      }
     },
     "output_type": "display_data"
    },
    {
     "data": {
      "image/png": "[encoded data removed]",
      "text/plain": [
       "<IPython.core.display.Image object>"
      ]
     },
     "metadata": {
      "image/png": {
       "height": 150,
       "width": 180
      }
     },
     "output_type": "display_data"
    },
    {
     "name": "stdout",
     "output_type": "stream",
     "text": [
      "A total of 4 frame(s) has been loaded from file ./dataset/anger/LamA1.svx\n"
     ]
    },
    {
     "data": {
      "image/png": "[encoded data removed]",
      "text/plain": [
       "<IPython.core.display.Image object>"
      ]
     },
     "metadata": {
      "image/png": {
       "height": 150,
       "width": 180
      }
     },
     "output_type": "display_data"
    },
    {
     "data": {
      "image/png": "[encoded data removed]",
      "text/plain": [
       "<IPython.core.display.Image object>"
      ]
     },
     "metadata": {
      "image/png": {
       "height": 150,
       "width": 180
      }
     },
     "output_type": "display_data"
    },
    {
     "data": {
      "image/png": "[encoded data removed]",
      "text/plain": [
       "<IPython.core.display.Image object>"
      ]
     },
     "metadata": {
      "image/png": {
       "height": 150,
       "width": 180
      }
     },
     "output_type": "display_data"
    },
    {
     "data": {
      "image/png": "[encoded data removed]",
      "text/plain": [
       "<IPython.core.display.Image object>"
      ]
     },
     "metadata": {
      "image/png": {
       "height": 150,
       "width": 180
      }
     },
     "output_type": "display_data"
    },
    {
     "name": "stdout",
     "output_type": "stream",
     "text": [
      "A total of 4 frame(s) has been loaded from file ./dataset/anger/nhata1.svx\n"
     ]
    },
    {
     "data": {
      "image/png": "[encoded data removed]",
      "text/plain": [
       "<IPython.core.display.Image object>"
      ]
     },
     "metadata": {
      "image/png": {
       "height": 150,
       "width": 180
      }
     },
     "output_type": "display_data"
    },
    {
     "ename": "KeyboardInterrupt",
     "evalue": "",
     "output_type": "error",
     "traceback": [
      "\u001b[0;31m---------------------------------------------------------------------------\u001b[0m",
      "\u001b[0;31mKeyboardInterrupt\u001b[0m                         Traceback (most recent call last)",
      "\u001b[0;32m<ipython-input-74-b229d5b98058>\u001b[0m in \u001b[0;36m<module>\u001b[0;34m\u001b[0m\n\u001b[1;32m     12\u001b[0m         \u001b[0mTROIs\u001b[0m \u001b[0;34m=\u001b[0m \u001b[0mreadTROIsFromSVX\u001b[0m\u001b[0;34m(\u001b[0m\u001b[0mfile\u001b[0m\u001b[0;34m,\u001b[0m \u001b[0mframe_step\u001b[0m \u001b[0;34m=\u001b[0m \u001b[0;36m0.3\u001b[0m\u001b[0;34m)\u001b[0m\u001b[0;34m\u001b[0m\u001b[0;34m\u001b[0m\u001b[0m\n\u001b[1;32m     13\u001b[0m         \u001b[0;32mfor\u001b[0m \u001b[0mimg\u001b[0m \u001b[0;32min\u001b[0m \u001b[0mTROIs\u001b[0m\u001b[0;34m:\u001b[0m\u001b[0;34m\u001b[0m\u001b[0;34m\u001b[0m\u001b[0m\n\u001b[0;32m---> 14\u001b[0;31m             \u001b[0mframeShow\u001b[0m\u001b[0;34m(\u001b[0m\u001b[0mnp\u001b[0m\u001b[0;34m.\u001b[0m\u001b[0marray\u001b[0m\u001b[0;34m(\u001b[0m\u001b[0mimg\u001b[0m\u001b[0;34m)\u001b[0m\u001b[0;34m.\u001b[0m\u001b[0mreshape\u001b[0m\u001b[0;34m(\u001b[0m\u001b[0;36m180\u001b[0m\u001b[0;34m,\u001b[0m\u001b[0;36m150\u001b[0m\u001b[0;34m)\u001b[0m\u001b[0;34m)\u001b[0m\u001b[0;34m\u001b[0m\u001b[0;34m\u001b[0m\u001b[0m\n\u001b[0m\u001b[1;32m     15\u001b[0m         \u001b[0mprint\u001b[0m\u001b[0;34m(\u001b[0m\u001b[0;34m'A total of'\u001b[0m\u001b[0;34m,\u001b[0m\u001b[0mlen\u001b[0m\u001b[0;34m(\u001b[0m\u001b[0mTROIs\u001b[0m\u001b[0;34m)\u001b[0m\u001b[0;34m,\u001b[0m \u001b[0;34m'frame(s) has been loaded from file'\u001b[0m\u001b[0;34m,\u001b[0m \u001b[0mfile\u001b[0m\u001b[0;34m)\u001b[0m\u001b[0;34m\u001b[0m\u001b[0;34m\u001b[0m\u001b[0m\n\u001b[1;32m     16\u001b[0m \u001b[0;34m\u001b[0m\u001b[0m\n",
      "\u001b[0;32m<ipython-input-3-1361c5208b7a>\u001b[0m in \u001b[0;36mframeShow\u001b[0;34m(frame)\u001b[0m\n\u001b[1;32m      4\u001b[0m     \u001b[0mi\u001b[0m \u001b[0;34m=\u001b[0m \u001b[0mdisplay\u001b[0m\u001b[0;34m.\u001b[0m\u001b[0mImage\u001b[0m\u001b[0;34m(\u001b[0m\u001b[0mdata\u001b[0m\u001b[0;34m=\u001b[0m\u001b[0mret\u001b[0m\u001b[0;34m,\u001b[0m \u001b[0mwidth\u001b[0m \u001b[0;34m=\u001b[0m \u001b[0mw\u001b[0m\u001b[0;34m,\u001b[0m \u001b[0mheight\u001b[0m \u001b[0;34m=\u001b[0m \u001b[0mh\u001b[0m\u001b[0;34m)\u001b[0m\u001b[0;34m\u001b[0m\u001b[0;34m\u001b[0m\u001b[0m\n\u001b[1;32m      5\u001b[0m     \u001b[0mdisplay\u001b[0m\u001b[0;34m.\u001b[0m\u001b[0mdisplay\u001b[0m\u001b[0;34m(\u001b[0m\u001b[0mi\u001b[0m\u001b[0;34m)\u001b[0m\u001b[0;34m\u001b[0m\u001b[0;34m\u001b[0m\u001b[0m\n\u001b[0;32m----> 6\u001b[0;31m     \u001b[0msleep\u001b[0m\u001b[0;34m(\u001b[0m\u001b[0;36m0.05\u001b[0m\u001b[0;34m)\u001b[0m\u001b[0;34m\u001b[0m\u001b[0;34m\u001b[0m\u001b[0m\n\u001b[0m\u001b[1;32m      7\u001b[0m \u001b[0;31m#     display.clear_output(True)\u001b[0m\u001b[0;34m\u001b[0m\u001b[0;34m\u001b[0m\u001b[0;34m\u001b[0m\u001b[0m\n",
      "\u001b[0;31mKeyboardInterrupt\u001b[0m: "
     ]
    },
    {
     "data": {
      "text/plain": [
       "<Figure size 2100x1000 with 0 Axes>"
      ]
     },
     "metadata": {},
     "output_type": "display_data"
    }
   ],
   "source": [
    "# Observe the dataset:\n",
    "inputdata = dict()\n",
    "plotIndex = 1\n",
    "plt.figure(num=None,figsize=(21,10),dpi=100)\n",
    "for e in eDir:\n",
    "    eIntensities = []\n",
    "    for file in getSVXFiles(dbDir+eDir[e]):\n",
    "        # Get intensities:\n",
    "        eIntensities.extend(readIntensitiesFromSVX(file, frame_step = 100))\n",
    "        \n",
    "        # Get TROIs:\n",
    "        TROIs = readTROIsFromSVX(file, frame_step = 0.3)\n",
    "        for img in TROIs:\n",
    "            frameShow(np.array(img).reshape(180,150))\n",
    "        print('A total of',len(TROIs), 'frame(s) has been loaded from file', file)\n",
    "        \n",
    "    inputdata[e] = np.average(eIntensities, axis = 0)\n",
    "    print('Finished loading',e.upper())\n",
    "    plt.subplot(2, 3, plotIndex)\n",
    "    plt.plot(np.arange(0, 256), inputdata[e], alpha = 1)\n",
    "    plt.axis([180, 255, 0, 0.07])\n",
    "    plt.xlabel('Grayscale')\n",
    "    plt.ylabel('Intensity')\n",
    "    plt.title(e.upper())\n",
    "    plotIndex += 1\n",
    "    \n",
    "# plt.tight_layout()\n",
    "plt.show()"
   ]
  },
  {
   "cell_type": "markdown",
   "metadata": {},
   "source": [
    "#### Load features using intensities:"
   ]
  },
  {
   "cell_type": "code",
   "execution_count": null,
   "metadata": {},
   "outputs": [],
   "source": [
    "# import re\n",
    "# regexPattern = '/(\\w+)(?:.svx|.SVX)'\n",
    "\n",
    "# def getDataFrameFromSVXs(dbLocation, frame_limit):\n",
    "#     eIntensities = []\n",
    "#     for e in eDir:\n",
    "#         for file in getSVXFiles(dbDir+eDir[e]):\n",
    "#             print('Loading file', file)\n",
    "#             trimmedFileName = re.findall(regexPattern, file)[0]\n",
    "#             # Get rows of features:\n",
    "#             rows = readIntensitiesFromSVX(file, frame_limit = frame_limit)\n",
    "#             # Get label for each row:\n",
    "#             for row in rows:\n",
    "#                 row.append(trimmedFileName)\n",
    "#                 row.append(e)\n",
    "#             eIntensities.extend(rows)\n",
    "#             print('Loaded file', file)\n",
    "        \n",
    "#         print('Finished loading',e.upper())\n",
    "#     return pd.DataFrame(eIntensities, columns = list(map(str, range(180,256))) + ['Filename', 'Emotion'])"
   ]
  },
  {
   "cell_type": "markdown",
   "metadata": {},
   "source": [
    "#### Save Intensities to CSV file"
   ]
  },
  {
   "cell_type": "code",
   "execution_count": null,
   "metadata": {},
   "outputs": [],
   "source": [
    "# df = getDataFrameFromSVXs(dbDir,20000)\n",
    "# df.to_csv('./GrayscaleIntensities/intensities_v2.csv', index = False)\n",
    "# print(\"Finished exporting data to csv\")\n",
    "# df.head()\n",
    "# getDataFrameFromSVXs(dbDir).head()"
   ]
  },
  {
   "cell_type": "markdown",
   "metadata": {},
   "source": [
    "#### Load features using TROIs:"
   ]
  },
  {
   "cell_type": "code",
   "execution_count": 10,
   "metadata": {},
   "outputs": [],
   "source": [
    "import re\n",
    "regexPattern = '/(\\w+)(?:.svx|.SVX)'\n",
    "\n",
    "def getDataFrameFromSVXs(dbLocation, frame_limit, frame_step):\n",
    "    eTROIs = []\n",
    "    for e in eDir:\n",
    "        for file in getSVXFiles(dbDir+eDir[e]):\n",
    "            print('Loading file', file)\n",
    "            # Get rows of features:\n",
    "            rows = readTROIsFromSVX(file, frame_limit = frame_limit, frame_step = frame_step)\n",
    "            # Add filename and label for each row:\n",
    "            trimmedFileName = re.findall(regexPattern, file)[0]\n",
    "            for row in rows:\n",
    "                row.append(trimmedFileName)\n",
    "                row.append(e)\n",
    "            eTROIs.extend(rows)\n",
    "            print('Loaded file', file)\n",
    "        print('Finished loading',e.upper())\n",
    "    return pd.DataFrame(eTROIs, columns = list(map(str, range(150*180))) + ['Filename', 'Emotion'])"
   ]
  },
  {
   "cell_type": "code",
   "execution_count": 11,
   "metadata": {},
   "outputs": [
    {
     "name": "stdout",
     "output_type": "stream",
     "text": [
      "Loading file ./dataset/anger/chinha2.svx\n",
      "Loaded file ./dataset/anger/chinha2.svx\n",
      "Loading file ./dataset/anger/Nhatangry1.svx\n",
      "Loaded file ./dataset/anger/Nhatangry1.svx\n",
      "Loading file ./dataset/anger/quana1.svx\n",
      "Loaded file ./dataset/anger/quana1.svx\n",
      "Loading file ./dataset/anger/vieta1.svx\n",
      "Loaded file ./dataset/anger/vieta1.svx\n",
      "Loading file ./dataset/anger/Nama1.svx\n",
      "Loaded file ./dataset/anger/Nama1.svx\n",
      "Loading file ./dataset/anger/LamA1.svx\n",
      "Loaded file ./dataset/anger/LamA1.svx\n",
      "Loading file ./dataset/anger/nhata1.svx\n",
      "Loaded file ./dataset/anger/nhata1.svx\n",
      "Loading file ./dataset/anger/cuonga1.svx\n",
      "Loaded file ./dataset/anger/cuonga1.svx\n",
      "Loading file ./dataset/anger/anan1.svx\n",
      "Loaded file ./dataset/anger/anan1.svx\n",
      "Loading file ./dataset/anger/thoa1.SVX\n",
      "Loaded file ./dataset/anger/thoa1.SVX\n",
      "Loading file ./dataset/anger/maya1vx.SVX\n",
      "Loaded file ./dataset/anger/maya1vx.SVX\n",
      "Loading file ./dataset/anger/nguyetanger1.SVX\n",
      "Loaded file ./dataset/anger/nguyetanger1.SVX\n",
      "Loading file ./dataset/anger/thaoa1.SVX\n",
      "Loaded file ./dataset/anger/thaoa1.SVX\n",
      "Loading file ./dataset/anger/khanha2.SVX\n",
      "Loaded file ./dataset/anger/khanha2.SVX\n",
      "Finished loading ANGRY\n",
      "Loading file ./dataset/fear/nhats2.svx\n",
      "Loaded file ./dataset/fear/nhats2.svx\n",
      "Loading file ./dataset/fear/Nhuts2.svx\n",
      "Loaded file ./dataset/fear/Nhuts2.svx\n",
      "Loading file ./dataset/fear/nghias2.svx\n",
      "Loaded file ./dataset/fear/nghias2.svx\n",
      "Loading file ./dataset/fear/Nams5.svx\n",
      "Loaded file ./dataset/fear/Nams5.svx\n",
      "Loading file ./dataset/fear/duys4.svx\n",
      "Loaded file ./dataset/fear/duys4.svx\n",
      "Loading file ./dataset/fear/thiens4.svx\n",
      "Loaded file ./dataset/fear/thiens4.svx\n",
      "Loading file ./dataset/fear/Huongs1.svx\n",
      "Loaded file ./dataset/fear/Huongs1.svx\n",
      "Loading file ./dataset/fear/viets2.svx\n",
      "Loaded file ./dataset/fear/viets2.svx\n",
      "Loading file ./dataset/fear/ans2.svx\n",
      "Loaded file ./dataset/fear/ans2.svx\n",
      "Loading file ./dataset/fear/quyens2.svx\n",
      "Loaded file ./dataset/fear/quyens2.svx\n",
      "Loading file ./dataset/fear/thanhs2.svx\n",
      "Loaded file ./dataset/fear/thanhs2.svx\n",
      "Loading file ./dataset/fear/quans2.svx\n",
      "Loaded file ./dataset/fear/quans2.svx\n",
      "Loading file ./dataset/fear/thaof6.svx\n",
      "Loaded file ./dataset/fear/thaof6.svx\n",
      "Loading file ./dataset/fear/locs5.svx\n",
      "Loaded file ./dataset/fear/locs5.svx\n",
      "Loading file ./dataset/fear/Lamfe1.svx\n",
      "Loaded file ./dataset/fear/Lamfe1.svx\n",
      "Loading file ./dataset/fear/cuongf2.svx\n",
      "Loaded file ./dataset/fear/cuongf2.svx\n",
      "Loading file ./dataset/fear/phuongs5.svx\n",
      "Loaded file ./dataset/fear/phuongs5.svx\n",
      "Loading file ./dataset/fear/Vys2.svx\n",
      "Loaded file ./dataset/fear/Vys2.svx\n",
      "Loading file ./dataset/fear/thofe1.SVX\n",
      "Loaded file ./dataset/fear/thofe1.SVX\n",
      "Loading file ./dataset/fear/chinhfe1.SVX\n",
      "Loaded file ./dataset/fear/chinhfe1.SVX\n",
      "Loading file ./dataset/fear/mayfe1vx.SVX\n",
      "Loaded file ./dataset/fear/mayfe1vx.SVX\n",
      "Loading file ./dataset/fear/khanhfe1.SVX\n",
      "Loaded file ./dataset/fear/khanhfe1.SVX\n",
      "Loading file ./dataset/fear/nguyetfe2.SVX\n",
      "Loaded file ./dataset/fear/nguyetfe2.SVX\n",
      "Loading file ./dataset/fear/chinhfe2.SVX\n",
      "Loaded file ./dataset/fear/chinhfe2.SVX\n",
      "Finished loading FEAR\n",
      "Loading file ./dataset/happy/Nhutha2.svx\n",
      "Loaded file ./dataset/happy/Nhutha2.svx\n",
      "Loading file ./dataset/happy/quanha2.svx\n",
      "Loaded file ./dataset/happy/quanha2.svx\n",
      "Loading file ./dataset/happy/nghiaha1.svx\n",
      "Loaded file ./dataset/happy/nghiaha1.svx\n",
      "Loading file ./dataset/happy/Vyha2.svx\n",
      "Loaded file ./dataset/happy/Vyha2.svx\n",
      "Loading file ./dataset/happy/keitaha3.svx\n",
      "Loaded file ./dataset/happy/keitaha3.svx\n",
      "Loading file ./dataset/happy/vietha1.svx\n",
      "Loaded file ./dataset/happy/vietha1.svx\n",
      "Loading file ./dataset/happy/lamha5.svx\n",
      "Loaded file ./dataset/happy/lamha5.svx\n",
      "Loading file ./dataset/happy/thienh2.svx\n",
      "Loaded file ./dataset/happy/thienh2.svx\n",
      "Loading file ./dataset/happy/thaoh1.svx\n",
      "Loaded file ./dataset/happy/thaoh1.svx\n",
      "Loading file ./dataset/happy/duyha1.svx\n",
      "Loaded file ./dataset/happy/duyha1.svx\n",
      "Loading file ./dataset/happy/cuongha3.svx\n",
      "Loaded file ./dataset/happy/cuongha3.svx\n",
      "Loading file ./dataset/happy/thanhha2.svx\n",
      "Loaded file ./dataset/happy/thanhha2.svx\n",
      "Loading file ./dataset/happy/quyenha2.svx\n",
      "Loaded file ./dataset/happy/quyenha2.svx\n",
      "Loading file ./dataset/happy/locha2.svx\n",
      "Loaded file ./dataset/happy/locha2.svx\n",
      "Loading file ./dataset/happy/huongha1.svx\n",
      "Loaded file ./dataset/happy/huongha1.svx\n",
      "Loading file ./dataset/happy/nhatha2.svx\n",
      "Loaded file ./dataset/happy/nhatha2.svx\n",
      "Loading file ./dataset/happy/phuongha2.svx\n",
      "Loaded file ./dataset/happy/phuongha2.svx\n",
      "Loading file ./dataset/happy/anha2.svx\n",
      "Loaded file ./dataset/happy/anha2.svx\n",
      "Loading file ./dataset/happy/Namha1.svx\n",
      "Loaded file ./dataset/happy/Namha1.svx\n",
      "Loading file ./dataset/happy/thoha1.svx\n",
      "Loaded file ./dataset/happy/thoha1.svx\n",
      "Loading file ./dataset/happy/nguyetha4.SVX\n",
      "Loaded file ./dataset/happy/nguyetha4.SVX\n",
      "Loading file ./dataset/happy/khanhha3.SVX\n",
      "Loaded file ./dataset/happy/khanhha3.SVX\n",
      "Loading file ./dataset/happy/chinhha4.SVX\n",
      "Loaded file ./dataset/happy/chinhha4.SVX\n",
      "Finished loading HAPPY\n",
      "Loading file ./dataset/sadness/lamsa3.svx\n",
      "Loaded file ./dataset/sadness/lamsa3.svx\n",
      "Loading file ./dataset/sadness/phuongsa5.svx\n",
      "Loaded file ./dataset/sadness/phuongsa5.svx\n",
      "Loading file ./dataset/sadness/thosa4.svx\n",
      "Loaded file ./dataset/sadness/thosa4.svx\n",
      "Loading file ./dataset/sadness/ansa5.svx\n",
      "Loaded file ./dataset/sadness/ansa5.svx\n",
      "Loading file ./dataset/sadness/cuongsa1.svx\n",
      "Loaded file ./dataset/sadness/cuongsa1.svx\n",
      "Loading file ./dataset/sadness/Nhatsa2.svx\n",
      "Loaded file ./dataset/sadness/Nhatsa2.svx\n",
      "Loading file ./dataset/sadness/Vysa2.svx\n",
      "Loaded file ./dataset/sadness/Vysa2.svx\n",
      "Loading file ./dataset/sadness/keitasa1.svx\n",
      "Loaded file ./dataset/sadness/keitasa1.svx\n",
      "Loading file ./dataset/sadness/duysa7.svx\n",
      "Loaded file ./dataset/sadness/duysa7.svx\n",
      "Loading file ./dataset/sadness/thaoss7.svx\n",
      "Loaded file ./dataset/sadness/thaoss7.svx\n",
      "Loading file ./dataset/sadness/nghiasa2.svx\n",
      "Loaded file ./dataset/sadness/nghiasa2.svx\n",
      "Loading file ./dataset/sadness/thanhsa4.svx\n",
      "Loaded file ./dataset/sadness/thanhsa4.svx\n",
      "Loading file ./dataset/sadness/huongsa4.svx\n",
      "Loaded file ./dataset/sadness/huongsa4.svx\n",
      "Loading file ./dataset/sadness/quyensa5.svx\n",
      "Loaded file ./dataset/sadness/quyensa5.svx\n",
      "Loading file ./dataset/sadness/vietsa2.svx\n",
      "Loaded file ./dataset/sadness/vietsa2.svx\n",
      "Loading file ./dataset/sadness/nhatsa5.svx\n",
      "Loaded file ./dataset/sadness/nhatsa5.svx\n",
      "Loading file ./dataset/sadness/locsa4.svx\n",
      "Loaded file ./dataset/sadness/locsa4.svx\n",
      "Loading file ./dataset/sadness/quansa5.svx\n",
      "Loaded file ./dataset/sadness/quansa5.svx\n",
      "Loading file ./dataset/sadness/thiensad4.svx\n",
      "Loaded file ./dataset/sadness/thiensad4.svx\n",
      "Loading file ./dataset/sadness/Namsa5.svx\n",
      "Loaded file ./dataset/sadness/Namsa5.svx\n",
      "Loading file ./dataset/sadness/chinhsa2.SVX\n",
      "Loaded file ./dataset/sadness/chinhsa2.SVX\n",
      "Loading file ./dataset/sadness/nguyetsa2.SVX\n",
      "Loaded file ./dataset/sadness/nguyetsa2.SVX\n",
      "Loading file ./dataset/sadness/maysa2vx.SVX\n",
      "Loaded file ./dataset/sadness/maysa2vx.SVX\n",
      "Loading file ./dataset/sadness/khanhsa3.SVX\n",
      "Loaded file ./dataset/sadness/khanhsa3.SVX\n",
      "Finished loading SAD\n",
      "Loading file ./dataset/neutral/thanhneutral.svx\n",
      "Loaded file ./dataset/neutral/thanhneutral.svx\n",
      "Loading file ./dataset/neutral/duyneutral.svx\n",
      "Loaded file ./dataset/neutral/duyneutral.svx\n",
      "Loading file ./dataset/neutral/cuongneutral.svx\n",
      "Loaded file ./dataset/neutral/cuongneutral.svx\n",
      "Loading file ./dataset/neutral/locNeutral.svx\n",
      "Loaded file ./dataset/neutral/locNeutral.svx\n",
      "Loading file ./dataset/neutral/nhatneutral.svx\n",
      "Loaded file ./dataset/neutral/nhatneutral.svx\n",
      "Loading file ./dataset/neutral/lamnetral.svx\n",
      "Loaded file ./dataset/neutral/lamnetral.svx\n",
      "Loading file ./dataset/neutral/nghianeutral.svx\n",
      "Loaded file ./dataset/neutral/nghianeutral.svx\n",
      "Loading file ./dataset/neutral/keitaneutral5.svx\n",
      "Loaded file ./dataset/neutral/keitaneutral5.svx\n",
      "Loading file ./dataset/neutral/phuongneutral.svx\n",
      "Loaded file ./dataset/neutral/phuongneutral.svx\n",
      "Loading file ./dataset/neutral/vyneutral.svx\n",
      "Loaded file ./dataset/neutral/vyneutral.svx\n",
      "Loading file ./dataset/neutral/NamNeutral.svx\n",
      "Loaded file ./dataset/neutral/NamNeutral.svx\n",
      "Loading file ./dataset/neutral/NhutNeutral.svx\n",
      "Loaded file ./dataset/neutral/NhutNeutral.svx\n",
      "Loading file ./dataset/neutral/anneutral.svx\n",
      "Loaded file ./dataset/neutral/anneutral.svx\n",
      "Loading file ./dataset/neutral/vietneutral.svx\n",
      "Loaded file ./dataset/neutral/vietneutral.svx\n",
      "Loading file ./dataset/neutral/thaoneutral.svx\n",
      "Loaded file ./dataset/neutral/thaoneutral.svx\n",
      "Loading file ./dataset/neutral/quanneutral1.svx\n",
      "Loaded file ./dataset/neutral/quanneutral1.svx\n",
      "Loading file ./dataset/neutral/maynevx.SVX\n",
      "Loaded file ./dataset/neutral/maynevx.SVX\n",
      "Loading file ./dataset/neutral/nguyetneutral.SVX\n",
      "Loaded file ./dataset/neutral/nguyetneutral.SVX\n",
      "Loading file ./dataset/neutral/chinhneutral.SVX\n",
      "Loaded file ./dataset/neutral/chinhneutral.SVX\n",
      "Loading file ./dataset/neutral/thone.SVX\n",
      "Loaded file ./dataset/neutral/thone.SVX\n",
      "Loading file ./dataset/neutral/thienneu.SVX\n",
      "Loaded file ./dataset/neutral/thienneu.SVX\n",
      "Loading file ./dataset/neutral/khanhneutral.SVX\n",
      "Loaded file ./dataset/neutral/khanhneutral.SVX\n",
      "Finished loading NEUTRAL\n",
      "      0  1  2  3  4  5  6  7  8  9  ...  26992  26993  26994  26995  26996  \\\n",
      "0     0  0  0  0  0  0  0  0  0  0  ...      0      0      0      0      0   \n",
      "1     0  0  0  0  0  0  0  0  0  0  ...      0      0      0      0      0   \n",
      "2     0  0  0  0  0  0  0  0  0  0  ...      0      0      0      0      0   \n",
      "3     0  0  0  0  0  0  0  0  0  0  ...      0      0      0      0      0   \n",
      "4     0  0  0  0  0  0  0  0  0  0  ...      0      0      0      0      0   \n",
      "5     0  0  0  0  0  0  0  0  0  0  ...      0      0      0      0      0   \n",
      "6     0  0  0  0  0  0  0  0  0  0  ...      0      0      0      0      0   \n",
      "7     0  0  0  0  0  0  0  0  0  0  ...      0      0      0      0      0   \n",
      "8     0  0  0  0  0  0  0  0  0  0  ...      0      0      0      0      0   \n",
      "9     0  0  0  0  0  0  0  0  0  0  ...      0      0      0      0      0   \n",
      "10    0  0  0  0  0  0  0  0  0  0  ...      0      0      0      0      0   \n",
      "11    0  0  0  0  0  0  0  0  0  0  ...      0      0      0      0      0   \n",
      "12    0  0  0  0  0  0  0  0  0  0  ...      0      0      0      0      0   \n",
      "13    0  0  0  0  0  0  0  0  0  0  ...      0      0      0      0      0   \n",
      "14    0  0  0  0  0  0  0  0  0  0  ...      0      0      0      0      0   \n",
      "15    0  0  0  0  0  0  0  0  0  0  ...      0      0      0      0      0   \n",
      "16    0  0  0  0  0  0  0  0  0  0  ...      0      0      0      0      0   \n",
      "17    0  0  0  0  0  0  0  0  0  0  ...      0      0      0      0      0   \n",
      "18    0  0  0  0  0  0  0  0  0  0  ...      0      0      0      0      0   \n",
      "19    0  0  0  0  0  0  0  0  0  0  ...      0      0      0      0      0   \n",
      "20    0  0  0  0  0  0  0  0  0  0  ...      0      0      0      0      0   \n",
      "21    0  0  0  0  0  0  0  0  0  0  ...      0      0      0      0      0   \n",
      "22    0  0  0  0  0  0  0  0  0  0  ...      0      0      0      0      0   \n",
      "23    0  0  0  0  0  0  0  0  0  0  ...      0      0      0      0      0   \n",
      "24    0  0  0  0  0  0  0  0  0  0  ...      0      0      0      0      0   \n",
      "25    0  0  0  0  0  0  0  0  0  0  ...      0      0      0      0      0   \n",
      "26    0  0  0  0  0  0  0  0  0  0  ...      0      0      0      0      0   \n",
      "27    0  0  0  0  0  0  0  0  0  0  ...      0      0      0      0      0   \n",
      "28    0  0  0  0  0  0  0  0  0  0  ...      0      0      0      0      0   \n",
      "29    0  0  0  0  0  0  0  0  0  0  ...      0      0      0      0      0   \n",
      "...  .. .. .. .. .. .. .. .. .. ..  ...    ...    ...    ...    ...    ...   \n",
      "1147  0  0  0  0  0  0  0  0  0  0  ...      0      0      0      0      0   \n",
      "1148  0  0  0  0  0  0  0  0  0  0  ...      0      0      0      0      0   \n",
      "1149  0  0  0  0  0  0  0  0  0  0  ...      0      0      0      0      0   \n",
      "1150  0  0  0  0  0  0  0  0  0  0  ...      0      0      0      0      0   \n",
      "1151  0  0  0  0  0  0  0  0  0  0  ...      0      0      0      0      0   \n",
      "1152  0  0  0  0  0  0  0  0  0  0  ...      0      0      0      0      0   \n",
      "1153  0  0  0  0  0  0  0  0  0  0  ...      0      0      0      0      0   \n",
      "1154  0  0  0  0  0  0  0  0  0  0  ...      0      0      0      0      0   \n",
      "1155  0  0  0  0  0  0  0  0  0  0  ...      0      0      0      0      0   \n",
      "1156  0  0  0  0  0  0  0  0  0  0  ...      0      0      0      0      0   \n",
      "1157  0  0  0  0  0  0  0  0  0  0  ...      0      0      0      0      0   \n",
      "1158  0  0  0  0  0  0  0  0  0  0  ...      0      0      0      0      0   \n",
      "1159  0  0  0  0  0  0  0  0  0  0  ...      0      0      0      0      0   \n",
      "1160  0  0  0  0  0  0  0  0  0  0  ...      0      0      0      0      0   \n",
      "1161  0  0  0  0  0  0  0  0  0  0  ...      0      0      0      0      0   \n",
      "1162  0  0  0  0  0  0  0  0  0  0  ...      0      0      0      0      0   \n",
      "1163  0  0  0  0  0  0  0  0  0  0  ...      0      0      0      0      0   \n",
      "1164  0  0  0  0  0  0  0  0  0  0  ...      0      0      0      0      0   \n",
      "1165  0  0  0  0  0  0  0  0  0  0  ...      0      0      0      0      0   \n",
      "1166  0  0  0  0  0  0  0  0  0  0  ...      0      0      0      0      0   \n",
      "1167  0  0  0  0  0  0  0  0  0  0  ...      0      0      0      0      0   \n",
      "1168  0  0  0  0  0  0  0  0  0  0  ...      0      0      0      0      0   \n",
      "1169  0  0  0  0  0  0  0  0  0  0  ...      0      0      0      0      0   \n",
      "1170  0  0  0  0  0  0  0  0  0  0  ...      0      0      0      0      0   \n",
      "1171  0  0  0  0  0  0  0  0  0  0  ...      0      0      0      0      0   \n",
      "1172  0  0  0  0  0  0  0  0  0  0  ...      0      0      0      0      0   \n",
      "1173  0  0  0  0  0  0  0  0  0  0  ...      0      0      0      0      0   \n",
      "1174  0  0  0  0  0  0  0  0  0  0  ...      0      0      0      0      0   \n",
      "1175  0  0  0  0  0  0  0  0  0  0  ...      0      0      0      0      0   \n",
      "1176  0  0  0  0  0  0  0  0  0  0  ...      0      0      0      0      0   \n",
      "\n",
      "      26997  26998  26999      Filename  Emotion  \n",
      "0         0      0      0       chinha2    angry  \n",
      "1         0      0      0       chinha2    angry  \n",
      "2         0      0      0       chinha2    angry  \n",
      "3         0      0      0       chinha2    angry  \n",
      "4         0      0      0       chinha2    angry  \n",
      "5         0      0      0       chinha2    angry  \n",
      "6         0      0      0       chinha2    angry  \n",
      "7         0      0      0       chinha2    angry  \n",
      "8         0      0      0       chinha2    angry  \n",
      "9         0      0      0       chinha2    angry  \n",
      "10        0      0      0       chinha2    angry  \n",
      "11        0      0      0    Nhatangry1    angry  \n",
      "12        0      0      0    Nhatangry1    angry  \n",
      "13        0      0      0    Nhatangry1    angry  \n",
      "14        0      0      0    Nhatangry1    angry  \n",
      "15        0      0      0    Nhatangry1    angry  \n",
      "16        0      0      0    Nhatangry1    angry  \n",
      "17        0      0      0    Nhatangry1    angry  \n",
      "18        0      0      0    Nhatangry1    angry  \n",
      "19        0      0      0    Nhatangry1    angry  \n",
      "20        0      0      0    Nhatangry1    angry  \n",
      "21        0      0      0    Nhatangry1    angry  \n",
      "22        0      0      0        quana1    angry  \n",
      "23        0      0      0        quana1    angry  \n",
      "24        0      0      0        quana1    angry  \n",
      "25        0      0      0        quana1    angry  \n",
      "26        0      0      0        quana1    angry  \n",
      "27        0      0      0        quana1    angry  \n",
      "28        0      0      0        quana1    angry  \n",
      "29        0      0      0        quana1    angry  \n",
      "...     ...    ...    ...           ...      ...  \n",
      "1147      0      0      0         thone  neutral  \n",
      "1148      0      0      0         thone  neutral  \n",
      "1149      0      0      0         thone  neutral  \n",
      "1150      0      0      0         thone  neutral  \n",
      "1151      0      0      0         thone  neutral  \n",
      "1152      0      0      0         thone  neutral  \n",
      "1153      0      0      0         thone  neutral  \n",
      "1154      0      0      0         thone  neutral  \n",
      "1155      0      0      0      thienneu  neutral  \n",
      "1156      0      0      0      thienneu  neutral  \n",
      "1157      0      0      0      thienneu  neutral  \n",
      "1158      0      0      0      thienneu  neutral  \n",
      "1159      0      0      0      thienneu  neutral  \n",
      "1160      0      0      0      thienneu  neutral  \n",
      "1161      0      0      0      thienneu  neutral  \n",
      "1162      0      0      0      thienneu  neutral  \n",
      "1163      0      0      0      thienneu  neutral  \n",
      "1164      0      0      0      thienneu  neutral  \n",
      "1165      0      0      0      thienneu  neutral  \n",
      "1166      0      0      0  khanhneutral  neutral  \n",
      "1167      0      0      0  khanhneutral  neutral  \n",
      "1168      0      0      0  khanhneutral  neutral  \n",
      "1169      0      0      0  khanhneutral  neutral  \n",
      "1170      0      0      0  khanhneutral  neutral  \n",
      "1171      0      0      0  khanhneutral  neutral  \n",
      "1172      0      0      0  khanhneutral  neutral  \n",
      "1173      0      0      0  khanhneutral  neutral  \n",
      "1174      0      0      0  khanhneutral  neutral  \n",
      "1175      0      0      0  khanhneutral  neutral  \n",
      "1176      0      0      0  khanhneutral  neutral  \n",
      "\n",
      "[1177 rows x 27002 columns]\n"
     ]
    }
   ],
   "source": [
    "df = getDataFrameFromSVXs(dbDir, frame_limit = 20000, frame_step = 0.1)\n",
    "print(df)"
   ]
  },
  {
   "cell_type": "code",
   "execution_count": 12,
   "metadata": {},
   "outputs": [],
   "source": [
    "df.to_csv('./TROIs/TROIs.csv', index = False)"
   ]
  },
  {
   "cell_type": "markdown",
   "metadata": {},
   "source": [
    "#### Load data from csv"
   ]
  },
  {
   "cell_type": "code",
   "execution_count": 13,
   "metadata": {},
   "outputs": [
    {
     "data": {
      "text/html": [
       "<div>\n",
       "<style scoped>\n",
       "    .dataframe tbody tr th:only-of-type {\n",
       "        vertical-align: middle;\n",
       "    }\n",
       "\n",
       "    .dataframe tbody tr th {\n",
       "        vertical-align: top;\n",
       "    }\n",
       "\n",
       "    .dataframe thead th {\n",
       "        text-align: right;\n",
       "    }\n",
       "</style>\n",
       "<table border=\"1\" class=\"dataframe\">\n",
       "  <thead>\n",
       "    <tr style=\"text-align: right;\">\n",
       "      <th></th>\n",
       "      <th>0</th>\n",
       "      <th>1</th>\n",
       "      <th>2</th>\n",
       "      <th>3</th>\n",
       "      <th>4</th>\n",
       "      <th>5</th>\n",
       "      <th>6</th>\n",
       "      <th>7</th>\n",
       "      <th>8</th>\n",
       "      <th>9</th>\n",
       "      <th>...</th>\n",
       "      <th>26992</th>\n",
       "      <th>26993</th>\n",
       "      <th>26994</th>\n",
       "      <th>26995</th>\n",
       "      <th>26996</th>\n",
       "      <th>26997</th>\n",
       "      <th>26998</th>\n",
       "      <th>26999</th>\n",
       "      <th>Filename</th>\n",
       "      <th>Emotion</th>\n",
       "    </tr>\n",
       "  </thead>\n",
       "  <tbody>\n",
       "    <tr>\n",
       "      <th>0</th>\n",
       "      <td>0</td>\n",
       "      <td>0</td>\n",
       "      <td>0</td>\n",
       "      <td>0</td>\n",
       "      <td>0</td>\n",
       "      <td>0</td>\n",
       "      <td>0</td>\n",
       "      <td>0</td>\n",
       "      <td>0</td>\n",
       "      <td>0</td>\n",
       "      <td>...</td>\n",
       "      <td>0</td>\n",
       "      <td>0</td>\n",
       "      <td>0</td>\n",
       "      <td>0</td>\n",
       "      <td>0</td>\n",
       "      <td>0</td>\n",
       "      <td>0</td>\n",
       "      <td>0</td>\n",
       "      <td>chinha2</td>\n",
       "      <td>angry</td>\n",
       "    </tr>\n",
       "    <tr>\n",
       "      <th>1</th>\n",
       "      <td>0</td>\n",
       "      <td>0</td>\n",
       "      <td>0</td>\n",
       "      <td>0</td>\n",
       "      <td>0</td>\n",
       "      <td>0</td>\n",
       "      <td>0</td>\n",
       "      <td>0</td>\n",
       "      <td>0</td>\n",
       "      <td>0</td>\n",
       "      <td>...</td>\n",
       "      <td>0</td>\n",
       "      <td>0</td>\n",
       "      <td>0</td>\n",
       "      <td>0</td>\n",
       "      <td>0</td>\n",
       "      <td>0</td>\n",
       "      <td>0</td>\n",
       "      <td>0</td>\n",
       "      <td>chinha2</td>\n",
       "      <td>angry</td>\n",
       "    </tr>\n",
       "    <tr>\n",
       "      <th>2</th>\n",
       "      <td>0</td>\n",
       "      <td>0</td>\n",
       "      <td>0</td>\n",
       "      <td>0</td>\n",
       "      <td>0</td>\n",
       "      <td>0</td>\n",
       "      <td>0</td>\n",
       "      <td>0</td>\n",
       "      <td>0</td>\n",
       "      <td>0</td>\n",
       "      <td>...</td>\n",
       "      <td>0</td>\n",
       "      <td>0</td>\n",
       "      <td>0</td>\n",
       "      <td>0</td>\n",
       "      <td>0</td>\n",
       "      <td>0</td>\n",
       "      <td>0</td>\n",
       "      <td>0</td>\n",
       "      <td>chinha2</td>\n",
       "      <td>angry</td>\n",
       "    </tr>\n",
       "    <tr>\n",
       "      <th>3</th>\n",
       "      <td>0</td>\n",
       "      <td>0</td>\n",
       "      <td>0</td>\n",
       "      <td>0</td>\n",
       "      <td>0</td>\n",
       "      <td>0</td>\n",
       "      <td>0</td>\n",
       "      <td>0</td>\n",
       "      <td>0</td>\n",
       "      <td>0</td>\n",
       "      <td>...</td>\n",
       "      <td>0</td>\n",
       "      <td>0</td>\n",
       "      <td>0</td>\n",
       "      <td>0</td>\n",
       "      <td>0</td>\n",
       "      <td>0</td>\n",
       "      <td>0</td>\n",
       "      <td>0</td>\n",
       "      <td>chinha2</td>\n",
       "      <td>angry</td>\n",
       "    </tr>\n",
       "    <tr>\n",
       "      <th>4</th>\n",
       "      <td>0</td>\n",
       "      <td>0</td>\n",
       "      <td>0</td>\n",
       "      <td>0</td>\n",
       "      <td>0</td>\n",
       "      <td>0</td>\n",
       "      <td>0</td>\n",
       "      <td>0</td>\n",
       "      <td>0</td>\n",
       "      <td>0</td>\n",
       "      <td>...</td>\n",
       "      <td>0</td>\n",
       "      <td>0</td>\n",
       "      <td>0</td>\n",
       "      <td>0</td>\n",
       "      <td>0</td>\n",
       "      <td>0</td>\n",
       "      <td>0</td>\n",
       "      <td>0</td>\n",
       "      <td>chinha2</td>\n",
       "      <td>angry</td>\n",
       "    </tr>\n",
       "  </tbody>\n",
       "</table>\n",
       "<p>5 rows × 27002 columns</p>\n",
       "</div>"
      ],
      "text/plain": [
       "   0  1  2  3  4  5  6  7  8  9  ...  26992  26993  26994  26995  26996  \\\n",
       "0  0  0  0  0  0  0  0  0  0  0  ...      0      0      0      0      0   \n",
       "1  0  0  0  0  0  0  0  0  0  0  ...      0      0      0      0      0   \n",
       "2  0  0  0  0  0  0  0  0  0  0  ...      0      0      0      0      0   \n",
       "3  0  0  0  0  0  0  0  0  0  0  ...      0      0      0      0      0   \n",
       "4  0  0  0  0  0  0  0  0  0  0  ...      0      0      0      0      0   \n",
       "\n",
       "   26997  26998  26999  Filename  Emotion  \n",
       "0      0      0      0   chinha2    angry  \n",
       "1      0      0      0   chinha2    angry  \n",
       "2      0      0      0   chinha2    angry  \n",
       "3      0      0      0   chinha2    angry  \n",
       "4      0      0      0   chinha2    angry  \n",
       "\n",
       "[5 rows x 27002 columns]"
      ]
     },
     "execution_count": 13,
     "metadata": {},
     "output_type": "execute_result"
    }
   ],
   "source": [
    "data = pd.read_csv('./TROIs/TROIs.csv')\n",
    "data.head()"
   ]
  },
  {
   "cell_type": "markdown",
   "metadata": {},
   "source": [
    "#### Train-Test split"
   ]
  },
  {
   "cell_type": "code",
   "execution_count": 14,
   "metadata": {},
   "outputs": [],
   "source": [
    "# from sklearn.model_selection import train_test_split\n",
    "# train, test = train_test_split(data, test_size = 0.25, random_state = 1, shuffle = True)\n",
    "\n",
    "def train_test_split(data, train_part=2, total_part=3):\n",
    "    # Get a map from each filename to the emotion it express:\n",
    "    map_file_emotion = dict(zip(data['Filename'].tolist(), data['Emotion'].tolist()))\n",
    "\n",
    "    # Get a map from each emotion to a list of files of that emotion:\n",
    "    map_emotion_files = dict((e, [f for f in map_file_emotion if map_file_emotion[f] == e]) for e in set(map_file_emotion.values()))\n",
    "\n",
    "    # Decide whether a file belongs to train set or test set:\n",
    "    map_file_traintest = dict()\n",
    "    for files in map_emotion_files.values():\n",
    "        for i in range(len(files)):\n",
    "            map_file_traintest[files[i]] = 'train' if i < len(files)*train_part//total_part else 'test'\n",
    "\n",
    "    # Split data into train set and test set with given map_file_traintest:\n",
    "    train = []\n",
    "    test = []\n",
    "    for i in range(len(data)):\n",
    "        try:\n",
    "            if map_file_traintest[data['Filename'][i]] == 'train':\n",
    "                train.append(data.loc[i])\n",
    "            else:\n",
    "                test.append(data.loc[i])\n",
    "        except:\n",
    "            print(data['Filename'][i])\n",
    "    train =  pd.DataFrame(train, columns = list(map(str, range(150*180))) + ['Filename', 'Emotion'])\n",
    "    test =  pd.DataFrame(test, columns = list(map(str, range(150*180))) + ['Filename', 'Emotion'])\n",
    "    \n",
    "    return train, test"
   ]
  },
  {
   "cell_type": "code",
   "execution_count": 15,
   "metadata": {},
   "outputs": [],
   "source": [
    "train, test = train_test_split(data)"
   ]
  },
  {
   "cell_type": "code",
   "execution_count": 16,
   "metadata": {},
   "outputs": [],
   "source": [
    "train.to_csv('./TROIs/train.csv', index = False)\n",
    "test.to_csv('./TROIs/test.csv', index = False)"
   ]
  },
  {
   "cell_type": "markdown",
   "metadata": {},
   "source": [
    "#### Load train and test from csv"
   ]
  },
  {
   "cell_type": "code",
   "execution_count": 17,
   "metadata": {},
   "outputs": [],
   "source": [
    "train = pd.read_csv('./TROIs/train.csv')\n",
    "test = pd.read_csv('./TROIs/test.csv')"
   ]
  },
  {
   "cell_type": "code",
   "execution_count": 18,
   "metadata": {},
   "outputs": [
    {
     "name": "stdout",
     "output_type": "stream",
     "text": [
      "(770, 27002)\n",
      "(407, 27002)\n"
     ]
    }
   ],
   "source": [
    "print(train.shape, test.shape, sep='\\n')"
   ]
  },
  {
   "cell_type": "markdown",
   "metadata": {},
   "source": [
    "#### Splitting label out of trainning, testing set (* Skip these splitting step for saving memory)"
   ]
  },
  {
   "cell_type": "code",
   "execution_count": 19,
   "metadata": {},
   "outputs": [],
   "source": [
    "train = train.sample(frac = 1, random_state = 1998)\n",
    "test = test.sample(frac = 1, random_state = 1998)"
   ]
  },
  {
   "cell_type": "code",
   "execution_count": 109,
   "metadata": {},
   "outputs": [
    {
     "name": "stdout",
     "output_type": "stream",
     "text": [
      "angry 55\n",
      "fear 88\n",
      "happy 88\n",
      "sad 88\n",
      "neutral 88\n",
      "Train - PCA:  (770, 27000)\n",
      "Test - PCA:  (407, 27000)\n"
     ]
    }
   ],
   "source": [
    "X_train = train.iloc[:, 0:-2]\n",
    "Y_train = train.iloc[:, -1]\n",
    "X_test = test.iloc[:, 0:-2]\n",
    "Y_test = test.iloc[:, -1]\n",
    "\n",
    "# X_train.head()\n",
    "# Y_train.head()\n",
    "# X_test.head()\n",
    "for e in eDir: \n",
    "    print(e,Y_test.tolist().count(e))\n",
    "    \n",
    "print(\"Train - PCA: \", X_train.shape)\n",
    "print(\"Test - PCA: \", X_test.shape)"
   ]
  },
  {
   "cell_type": "markdown",
   "metadata": {},
   "source": [
    "### Standardize dataset and apply PCA"
   ]
  },
  {
   "cell_type": "code",
   "execution_count": 110,
   "metadata": {},
   "outputs": [
    {
     "name": "stderr",
     "output_type": "stream",
     "text": [
      "/usr/local/lib/python3.6/dist-packages/sklearn/preprocessing/data.py:645: DataConversionWarning: Data with input dtype int64 were all converted to float64 by StandardScaler.\n",
      "  return self.partial_fit(X, y)\n",
      "/usr/local/lib/python3.6/dist-packages/sklearn/base.py:464: DataConversionWarning: Data with input dtype int64 were all converted to float64 by StandardScaler.\n",
      "  return self.fit(X, **fit_params).transform(X)\n",
      "/usr/local/lib/python3.6/dist-packages/ipykernel_launcher.py:5: DataConversionWarning: Data with input dtype int64 were all converted to float64 by StandardScaler.\n",
      "  \"\"\"\n"
     ]
    },
    {
     "name": "stdout",
     "output_type": "stream",
     "text": [
      "Train - PCA:  (770, 473)\n",
      "Test - PCA:  (407, 473)\n"
     ]
    }
   ],
   "source": [
    "# Standardize dataset:\n",
    "from sklearn.preprocessing import StandardScaler\n",
    "std_scaler = StandardScaler()\n",
    "X_train = std_scaler.fit_transform(X_train)\n",
    "X_test = std_scaler.transform(X_test)\n",
    "\n",
    "# Apply PCA:\n",
    "from sklearn.decomposition import PCA\n",
    "\n",
    "PCA_ncomp = 0.95\n",
    "pca = PCA(n_components = PCA_ncomp)\n",
    "X_train = pca.fit_transform(X_train)\n",
    "X_test = pca.transform(X_test)\n",
    "\n",
    "X_train = pd.DataFrame(data = X_train)#, columns = list(map(str, range(PCA_ncomp))))\n",
    "X_test = pd.DataFrame(data = X_test)#, columns = list(map(str, range(PCA_ncomp))))\n",
    "\n",
    "print(\"Train - PCA: \", X_train.shape)\n",
    "print(\"Test - PCA: \", X_test.shape)"
   ]
  },
  {
   "cell_type": "code",
   "execution_count": 103,
   "metadata": {},
   "outputs": [
    {
     "data": {
      "text/html": [
       "<div>\n",
       "<style scoped>\n",
       "    .dataframe tbody tr th:only-of-type {\n",
       "        vertical-align: middle;\n",
       "    }\n",
       "\n",
       "    .dataframe tbody tr th {\n",
       "        vertical-align: top;\n",
       "    }\n",
       "\n",
       "    .dataframe thead th {\n",
       "        text-align: right;\n",
       "    }\n",
       "</style>\n",
       "<table border=\"1\" class=\"dataframe\">\n",
       "  <thead>\n",
       "    <tr style=\"text-align: right;\">\n",
       "      <th></th>\n",
       "      <th>0</th>\n",
       "      <th>1</th>\n",
       "      <th>2</th>\n",
       "      <th>3</th>\n",
       "      <th>4</th>\n",
       "      <th>5</th>\n",
       "      <th>6</th>\n",
       "      <th>7</th>\n",
       "      <th>8</th>\n",
       "      <th>9</th>\n",
       "      <th>...</th>\n",
       "      <th>27</th>\n",
       "      <th>28</th>\n",
       "      <th>29</th>\n",
       "      <th>30</th>\n",
       "      <th>31</th>\n",
       "      <th>32</th>\n",
       "      <th>33</th>\n",
       "      <th>34</th>\n",
       "      <th>35</th>\n",
       "      <th>36</th>\n",
       "    </tr>\n",
       "  </thead>\n",
       "  <tbody>\n",
       "    <tr>\n",
       "      <th>0</th>\n",
       "      <td>-197.424605</td>\n",
       "      <td>24.775550</td>\n",
       "      <td>-29.520755</td>\n",
       "      <td>-7.642262</td>\n",
       "      <td>-12.867560</td>\n",
       "      <td>-2.130768</td>\n",
       "      <td>-3.229048</td>\n",
       "      <td>-8.287461</td>\n",
       "      <td>-4.340048</td>\n",
       "      <td>5.336579</td>\n",
       "      <td>...</td>\n",
       "      <td>1.329360</td>\n",
       "      <td>0.062214</td>\n",
       "      <td>2.768875</td>\n",
       "      <td>7.053766</td>\n",
       "      <td>-2.612923</td>\n",
       "      <td>-2.166274</td>\n",
       "      <td>-1.983492</td>\n",
       "      <td>0.203612</td>\n",
       "      <td>-10.328628</td>\n",
       "      <td>-1.697933</td>\n",
       "    </tr>\n",
       "    <tr>\n",
       "      <th>1</th>\n",
       "      <td>-195.865320</td>\n",
       "      <td>25.637946</td>\n",
       "      <td>-33.266511</td>\n",
       "      <td>-11.248084</td>\n",
       "      <td>-14.273559</td>\n",
       "      <td>1.759897</td>\n",
       "      <td>-2.855578</td>\n",
       "      <td>-4.737171</td>\n",
       "      <td>12.885074</td>\n",
       "      <td>11.116640</td>\n",
       "      <td>...</td>\n",
       "      <td>0.406685</td>\n",
       "      <td>-1.258698</td>\n",
       "      <td>2.072666</td>\n",
       "      <td>2.278248</td>\n",
       "      <td>-5.347474</td>\n",
       "      <td>2.408921</td>\n",
       "      <td>-2.970550</td>\n",
       "      <td>-4.444290</td>\n",
       "      <td>-15.512081</td>\n",
       "      <td>5.083691</td>\n",
       "    </tr>\n",
       "    <tr>\n",
       "      <th>2</th>\n",
       "      <td>-202.585694</td>\n",
       "      <td>28.282935</td>\n",
       "      <td>-35.865458</td>\n",
       "      <td>-12.213060</td>\n",
       "      <td>8.560541</td>\n",
       "      <td>-0.346061</td>\n",
       "      <td>-7.451018</td>\n",
       "      <td>-10.104988</td>\n",
       "      <td>-2.530413</td>\n",
       "      <td>9.594655</td>\n",
       "      <td>...</td>\n",
       "      <td>-6.844570</td>\n",
       "      <td>-19.560921</td>\n",
       "      <td>-2.938638</td>\n",
       "      <td>-12.402191</td>\n",
       "      <td>9.963851</td>\n",
       "      <td>-2.329284</td>\n",
       "      <td>13.777984</td>\n",
       "      <td>6.935833</td>\n",
       "      <td>4.047961</td>\n",
       "      <td>8.622005</td>\n",
       "    </tr>\n",
       "    <tr>\n",
       "      <th>3</th>\n",
       "      <td>-197.996016</td>\n",
       "      <td>24.528148</td>\n",
       "      <td>-32.382784</td>\n",
       "      <td>-8.725748</td>\n",
       "      <td>-13.723954</td>\n",
       "      <td>-2.265310</td>\n",
       "      <td>-3.838504</td>\n",
       "      <td>-10.357516</td>\n",
       "      <td>-2.122617</td>\n",
       "      <td>6.729718</td>\n",
       "      <td>...</td>\n",
       "      <td>-0.603174</td>\n",
       "      <td>-1.374435</td>\n",
       "      <td>1.105201</td>\n",
       "      <td>3.419615</td>\n",
       "      <td>-0.247726</td>\n",
       "      <td>2.806172</td>\n",
       "      <td>-3.460982</td>\n",
       "      <td>-5.931088</td>\n",
       "      <td>-11.310597</td>\n",
       "      <td>-1.368733</td>\n",
       "    </tr>\n",
       "    <tr>\n",
       "      <th>4</th>\n",
       "      <td>-199.289790</td>\n",
       "      <td>26.824920</td>\n",
       "      <td>-31.427894</td>\n",
       "      <td>-9.768811</td>\n",
       "      <td>-13.719811</td>\n",
       "      <td>0.259039</td>\n",
       "      <td>-5.959914</td>\n",
       "      <td>-6.884623</td>\n",
       "      <td>-3.638638</td>\n",
       "      <td>7.274337</td>\n",
       "      <td>...</td>\n",
       "      <td>0.051632</td>\n",
       "      <td>2.678113</td>\n",
       "      <td>-1.294023</td>\n",
       "      <td>8.535517</td>\n",
       "      <td>-6.848828</td>\n",
       "      <td>-3.957440</td>\n",
       "      <td>-4.969039</td>\n",
       "      <td>1.629769</td>\n",
       "      <td>-3.705899</td>\n",
       "      <td>-26.585370</td>\n",
       "    </tr>\n",
       "  </tbody>\n",
       "</table>\n",
       "<p>5 rows × 37 columns</p>\n",
       "</div>"
      ],
      "text/plain": [
       "           0          1          2          3          4         5         6   \\\n",
       "0 -197.424605  24.775550 -29.520755  -7.642262 -12.867560 -2.130768 -3.229048   \n",
       "1 -195.865320  25.637946 -33.266511 -11.248084 -14.273559  1.759897 -2.855578   \n",
       "2 -202.585694  28.282935 -35.865458 -12.213060   8.560541 -0.346061 -7.451018   \n",
       "3 -197.996016  24.528148 -32.382784  -8.725748 -13.723954 -2.265310 -3.838504   \n",
       "4 -199.289790  26.824920 -31.427894  -9.768811 -13.719811  0.259039 -5.959914   \n",
       "\n",
       "          7          8          9   ...        27         28        29  \\\n",
       "0  -8.287461  -4.340048   5.336579  ...  1.329360   0.062214  2.768875   \n",
       "1  -4.737171  12.885074  11.116640  ...  0.406685  -1.258698  2.072666   \n",
       "2 -10.104988  -2.530413   9.594655  ... -6.844570 -19.560921 -2.938638   \n",
       "3 -10.357516  -2.122617   6.729718  ... -0.603174  -1.374435  1.105201   \n",
       "4  -6.884623  -3.638638   7.274337  ...  0.051632   2.678113 -1.294023   \n",
       "\n",
       "          30        31        32         33        34         35         36  \n",
       "0   7.053766 -2.612923 -2.166274  -1.983492  0.203612 -10.328628  -1.697933  \n",
       "1   2.278248 -5.347474  2.408921  -2.970550 -4.444290 -15.512081   5.083691  \n",
       "2 -12.402191  9.963851 -2.329284  13.777984  6.935833   4.047961   8.622005  \n",
       "3   3.419615 -0.247726  2.806172  -3.460982 -5.931088 -11.310597  -1.368733  \n",
       "4   8.535517 -6.848828 -3.957440  -4.969039  1.629769  -3.705899 -26.585370  \n",
       "\n",
       "[5 rows x 37 columns]"
      ]
     },
     "execution_count": 103,
     "metadata": {},
     "output_type": "execute_result"
    }
   ],
   "source": [
    "X_test.head()"
   ]
  },
  {
   "cell_type": "markdown",
   "metadata": {},
   "source": [
    "### Training, Cross Validating with XGBoost"
   ]
  },
  {
   "cell_type": "code",
   "execution_count": 112,
   "metadata": {},
   "outputs": [
    {
     "name": "stdout",
     "output_type": "stream",
     "text": [
      "Param: 0.1 -- Overall accuracy: 0.2310\n",
      "Detail result:\n",
      "              precision    recall  f1-score   support\n",
      "\n",
      "       angry       0.31      0.44      0.36        39\n",
      "        fear       0.22      0.23      0.22        83\n",
      "       happy       0.16      0.13      0.15       105\n",
      "     neutral       0.20      0.40      0.27        45\n",
      "         sad       0.30      0.19      0.23       135\n",
      "\n",
      "   micro avg       0.23      0.23      0.23       407\n",
      "   macro avg       0.24      0.28      0.25       407\n",
      "weighted avg       0.24      0.23      0.22       407\n",
      "\n",
      "Confusion matrix:\n",
      "         p_angry  p_fear  p_happy  p_neutral  p_sad\n",
      "angry         17      12        8          0      2\n",
      "fear           4      19       21         14     25\n",
      "happy         25      17       14         28     21\n",
      "neutral        5       2        6         18     14\n",
      "sad            4      38       39         28     26\n"
     ]
    },
    {
     "data": {
      "image/png": "[encoded data removed]",
      "text/plain": [
       "<Figure size 1080x720 with 1 Axes>"
      ]
     },
     "metadata": {
      "needs_background": "light"
     },
     "output_type": "display_data"
    },
    {
     "name": "stdout",
     "output_type": "stream",
     "text": [
      "Param: 0.3 -- Overall accuracy: 0.2064\n",
      "Detail result:\n",
      "              precision    recall  f1-score   support\n",
      "\n",
      "       angry       0.15      0.26      0.19        31\n",
      "        fear       0.14      0.17      0.15        69\n",
      "       happy       0.18      0.18      0.18        91\n",
      "     neutral       0.20      0.32      0.25        56\n",
      "         sad       0.34      0.19      0.24       160\n",
      "\n",
      "   micro avg       0.21      0.21      0.21       407\n",
      "   macro avg       0.20      0.22      0.20       407\n",
      "weighted avg       0.24      0.21      0.21       407\n",
      "\n",
      "Confusion matrix:\n",
      "         p_angry  p_fear  p_happy  p_neutral  p_sad\n",
      "angry          8      12        9          0      2\n",
      "fear           4      12       16         19     18\n",
      "happy         18      14       16         23     20\n",
      "neutral        5       8        7         18     18\n",
      "sad           20      42       40         28     30\n"
     ]
    },
    {
     "data": {
      "image/png": "[encoded data removed]",
      "text/plain": [
       "<Figure size 1080x720 with 1 Axes>"
      ]
     },
     "metadata": {
      "needs_background": "light"
     },
     "output_type": "display_data"
    },
    {
     "name": "stdout",
     "output_type": "stream",
     "text": [
      "Param: 0.5 -- Overall accuracy: 0.1966\n",
      "Detail result:\n",
      "              precision    recall  f1-score   support\n",
      "\n",
      "       angry       0.20      0.44      0.28        25\n",
      "        fear       0.25      0.22      0.24        98\n",
      "       happy       0.19      0.14      0.17       118\n",
      "     neutral       0.11      0.26      0.16        38\n",
      "         sad       0.23      0.16      0.19       128\n",
      "\n",
      "   micro avg       0.20      0.20      0.20       407\n",
      "   macro avg       0.20      0.25      0.20       407\n",
      "weighted avg       0.21      0.20      0.19       407\n",
      "\n",
      "Confusion matrix:\n",
      "         p_angry  p_fear  p_happy  p_neutral  p_sad\n",
      "angry         11      10        4          0      0\n",
      "fear           9      22       21         21     25\n",
      "happy         18      21       17         33     29\n",
      "neutral        8       2        4         10     14\n",
      "sad            9      33       42         24     20\n"
     ]
    },
    {
     "data": {
      "image/png": "[encoded data removed]",
      "text/plain": [
       "<Figure size 1080x720 with 1 Axes>"
      ]
     },
     "metadata": {
      "needs_background": "light"
     },
     "output_type": "display_data"
    },
    {
     "name": "stdout",
     "output_type": "stream",
     "text": [
      "Param: 1 -- Overall accuracy: 0.1941\n",
      "Detail result:\n",
      "              precision    recall  f1-score   support\n",
      "\n",
      "       angry       0.27      0.22      0.25        67\n",
      "        fear       0.07      0.10      0.08        58\n",
      "       happy       0.20      0.19      0.20        96\n",
      "     neutral       0.15      0.24      0.18        54\n",
      "         sad       0.31      0.20      0.25       132\n",
      "\n",
      "   micro avg       0.19      0.19      0.19       407\n",
      "   macro avg       0.20      0.19      0.19       407\n",
      "weighted avg       0.22      0.19      0.20       407\n",
      "\n",
      "Confusion matrix:\n",
      "         p_angry  p_fear  p_happy  p_neutral  p_sad\n",
      "angry         15      18       17          7     10\n",
      "fear           7       6       11         19     15\n",
      "happy         12      14       18         27     25\n",
      "neutral        6      12       12         13     11\n",
      "sad           15      38       30         22     27\n"
     ]
    },
    {
     "data": {
      "image/png": "[encoded data removed]",
      "text/plain": [
       "<Figure size 1080x720 with 1 Axes>"
      ]
     },
     "metadata": {
      "needs_background": "light"
     },
     "output_type": "display_data"
    }
   ],
   "source": [
    "from sklearn.metrics import classification_report, confusion_matrix\n",
    "\n",
    "metrics = ['merror']\n",
    "for d in [0.1, 0.3, 0.5, 1]:\n",
    "    clf = XGBClassifier(\n",
    "#         objective = 'multi:softprob',\n",
    "        num_class = len(eDir),\n",
    "        eta = 0.00001, \n",
    "        max_depth = 80, \n",
    "        n_estimators = 10000, \n",
    "        n_jobs = 6, \n",
    "        subsample = 0.5, \n",
    "        min_child_weight = 0,\n",
    "        colsample_bytree = 1,\n",
    "        tree_method = 'approx',\n",
    "        reg_lambda = d\n",
    "    )\n",
    "    \n",
    "    clf.fit(\n",
    "        X=X_train, y=Y_train, \n",
    "        eval_set=[(X_train, Y_train),(X_test, Y_test)],\n",
    "        eval_metric=metrics, \n",
    "        early_stopping_rounds = 1000, \n",
    "        verbose = 0\n",
    "    )\n",
    "    eval_res = clf.evals_result()\n",
    "    acc = clf.score(X_test, Y_test)\n",
    "    print(\"Param:\",d,\"-- Overall accuracy: {:.4f}\".format(acc))\n",
    "    clf.save_model('./model/model_xgboost.model')\n",
    "    plt.figure(num=None, figsize=(15,10))\n",
    "    for i,metric in enumerate(metrics):\n",
    "        plt.subplot(120 + i + 1)\n",
    "        plt.plot(eval_res['validation_0'][metric], label = 'train')\n",
    "        plt.plot(eval_res['validation_1'][metric], label = 'test')\n",
    "        plt.legend()\n",
    "        plt.ylabel(metric)\n",
    "    Y_predict = clf.predict(X_test)\n",
    "    result = classification_report(Y_predict, Y_test)\n",
    "    confusionMatrix = pd.DataFrame(data = confusion_matrix(Y_predict, Y_test), columns = [\"p_\" + c for c in sorted(list(eDir.keys()))], index = sorted(list(eDir.keys())))\n",
    "    print(\"Detail result:\", result, sep = '\\n')\n",
    "    print(\"Confusion matrix:\", confusionMatrix, sep = '\\n')\n",
    "    plt.show()\n",
    "    "
   ]
  },
  {
   "cell_type": "markdown",
   "metadata": {},
   "source": [
    "### Training, Cross Validating using Random Forest"
   ]
  },
  {
   "cell_type": "code",
   "execution_count": 88,
   "metadata": {},
   "outputs": [
    {
     "name": "stdout",
     "output_type": "stream",
     "text": [
      "781\n",
      "train accuracy: 1.0\n",
      "test accuracy: 0.3071253071253071\n",
      "782\n",
      "train accuracy: 1.0\n",
      "test accuracy: 0.3071253071253071\n",
      "783\n",
      "train accuracy: 1.0\n",
      "test accuracy: 0.3071253071253071\n",
      "784\n",
      "train accuracy: 1.0\n",
      "test accuracy: 0.3046683046683047\n",
      "785\n",
      "train accuracy: 1.0\n",
      "test accuracy: 0.3046683046683047\n",
      "786\n",
      "train accuracy: 1.0\n",
      "test accuracy: 0.3046683046683047\n",
      "787\n",
      "train accuracy: 1.0\n",
      "test accuracy: 0.3046683046683047\n",
      "788\n",
      "train accuracy: 1.0\n",
      "test accuracy: 0.3046683046683047\n",
      "789\n",
      "train accuracy: 1.0\n",
      "test accuracy: 0.3022113022113022\n",
      "790\n",
      "train accuracy: 1.0\n",
      "test accuracy: 0.3022113022113022\n",
      "791\n",
      "train accuracy: 1.0\n",
      "test accuracy: 0.3022113022113022\n",
      "792\n",
      "train accuracy: 1.0\n",
      "test accuracy: 0.3022113022113022\n",
      "793\n",
      "train accuracy: 1.0\n",
      "test accuracy: 0.3046683046683047\n",
      "794\n",
      "train accuracy: 1.0\n",
      "test accuracy: 0.3022113022113022\n",
      "795\n",
      "train accuracy: 1.0\n",
      "test accuracy: 0.3022113022113022\n",
      "796\n",
      "train accuracy: 1.0\n",
      "test accuracy: 0.3022113022113022\n",
      "797\n",
      "train accuracy: 1.0\n",
      "test accuracy: 0.3022113022113022\n",
      "798\n",
      "train accuracy: 1.0\n",
      "test accuracy: 0.3046683046683047\n",
      "799\n",
      "train accuracy: 1.0\n",
      "test accuracy: 0.3046683046683047\n",
      "800\n",
      "train accuracy: 1.0\n",
      "test accuracy: 0.3046683046683047\n",
      "801\n",
      "train accuracy: 1.0\n",
      "test accuracy: 0.3022113022113022\n",
      "802\n",
      "train accuracy: 1.0\n",
      "test accuracy: 0.3022113022113022\n",
      "803\n",
      "train accuracy: 1.0\n",
      "test accuracy: 0.3022113022113022\n",
      "804\n",
      "train accuracy: 1.0\n",
      "test accuracy: 0.29975429975429974\n",
      "805\n",
      "train accuracy: 1.0\n",
      "test accuracy: 0.29975429975429974\n",
      "806\n",
      "train accuracy: 1.0\n",
      "test accuracy: 0.29975429975429974\n",
      "807\n",
      "train accuracy: 1.0\n",
      "test accuracy: 0.2972972972972973\n",
      "808\n",
      "train accuracy: 1.0\n",
      "test accuracy: 0.29484029484029484\n",
      "809\n",
      "train accuracy: 1.0\n",
      "test accuracy: 0.3046683046683047\n",
      "810\n",
      "train accuracy: 1.0\n",
      "test accuracy: 0.3046683046683047\n",
      "811\n",
      "train accuracy: 1.0\n",
      "test accuracy: 0.29975429975429974\n",
      "812\n",
      "train accuracy: 1.0\n",
      "test accuracy: 0.3022113022113022\n",
      "813\n",
      "train accuracy: 1.0\n",
      "test accuracy: 0.29975429975429974\n",
      "814\n",
      "train accuracy: 1.0\n",
      "test accuracy: 0.29975429975429974\n",
      "815\n",
      "train accuracy: 1.0\n",
      "test accuracy: 0.29975429975429974\n",
      "816\n",
      "train accuracy: 1.0\n",
      "test accuracy: 0.2972972972972973\n",
      "817\n",
      "train accuracy: 1.0\n",
      "test accuracy: 0.2972972972972973\n",
      "818\n",
      "train accuracy: 1.0\n",
      "test accuracy: 0.2972972972972973\n",
      "819\n",
      "train accuracy: 1.0\n",
      "test accuracy: 0.2972972972972973\n",
      "820\n",
      "train accuracy: 1.0\n",
      "test accuracy: 0.29484029484029484\n",
      "821\n",
      "train accuracy: 1.0\n",
      "test accuracy: 0.29975429975429974\n",
      "822\n",
      "train accuracy: 1.0\n",
      "test accuracy: 0.29975429975429974\n",
      "823\n",
      "train accuracy: 1.0\n",
      "test accuracy: 0.29484029484029484\n",
      "824\n",
      "train accuracy: 1.0\n",
      "test accuracy: 0.29484029484029484\n",
      "825\n",
      "train accuracy: 1.0\n",
      "test accuracy: 0.29484029484029484\n",
      "826\n",
      "train accuracy: 1.0\n",
      "test accuracy: 0.2972972972972973\n",
      "827\n",
      "train accuracy: 1.0\n",
      "test accuracy: 0.2972972972972973\n",
      "828\n",
      "train accuracy: 1.0\n",
      "test accuracy: 0.29484029484029484\n",
      "829\n",
      "train accuracy: 1.0\n",
      "test accuracy: 0.29484029484029484\n",
      "830\n",
      "train accuracy: 1.0\n",
      "test accuracy: 0.29484029484029484\n",
      "831\n",
      "train accuracy: 1.0\n",
      "test accuracy: 0.29484029484029484\n",
      "832\n",
      "train accuracy: 1.0\n",
      "test accuracy: 0.29484029484029484\n",
      "833\n",
      "train accuracy: 1.0\n",
      "test accuracy: 0.2972972972972973\n",
      "834\n",
      "train accuracy: 1.0\n",
      "test accuracy: 0.2972972972972973\n",
      "835\n",
      "train accuracy: 1.0\n",
      "test accuracy: 0.2972972972972973\n",
      "836\n",
      "train accuracy: 1.0\n",
      "test accuracy: 0.2972972972972973\n",
      "837\n",
      "train accuracy: 1.0\n",
      "test accuracy: 0.2972972972972973\n",
      "838\n",
      "train accuracy: 1.0\n",
      "test accuracy: 0.2972972972972973\n",
      "839\n",
      "train accuracy: 1.0\n",
      "test accuracy: 0.2972972972972973\n",
      "840\n",
      "train accuracy: 1.0\n",
      "test accuracy: 0.2972972972972973\n",
      "841\n",
      "train accuracy: 1.0\n",
      "test accuracy: 0.2972972972972973\n",
      "842\n",
      "train accuracy: 1.0\n",
      "test accuracy: 0.2972972972972973\n",
      "843\n",
      "train accuracy: 1.0\n",
      "test accuracy: 0.29975429975429974\n",
      "844\n",
      "train accuracy: 1.0\n",
      "test accuracy: 0.29975429975429974\n",
      "845\n",
      "train accuracy: 1.0\n",
      "test accuracy: 0.2972972972972973\n",
      "846\n",
      "train accuracy: 1.0\n",
      "test accuracy: 0.2972972972972973\n",
      "847\n",
      "train accuracy: 1.0\n",
      "test accuracy: 0.29975429975429974\n",
      "848\n",
      "train accuracy: 1.0\n",
      "test accuracy: 0.2972972972972973\n",
      "849\n",
      "train accuracy: 1.0\n",
      "test accuracy: 0.2972972972972973\n",
      "850\n",
      "train accuracy: 1.0\n",
      "test accuracy: 0.2972972972972973\n",
      "851\n",
      "train accuracy: 1.0\n",
      "test accuracy: 0.29484029484029484\n",
      "852\n",
      "train accuracy: 1.0\n",
      "test accuracy: 0.29238329238329236\n",
      "853\n",
      "train accuracy: 1.0\n",
      "test accuracy: 0.29238329238329236\n",
      "854\n",
      "train accuracy: 1.0\n",
      "test accuracy: 0.29484029484029484\n",
      "855\n",
      "train accuracy: 1.0\n",
      "test accuracy: 0.2972972972972973\n",
      "856\n",
      "train accuracy: 1.0\n",
      "test accuracy: 0.2972972972972973\n",
      "857\n",
      "train accuracy: 1.0\n",
      "test accuracy: 0.29975429975429974\n",
      "858\n",
      "train accuracy: 1.0\n",
      "test accuracy: 0.29975429975429974\n",
      "859\n",
      "train accuracy: 1.0\n",
      "test accuracy: 0.3022113022113022\n",
      "860\n",
      "train accuracy: 1.0\n",
      "test accuracy: 0.3022113022113022\n",
      "861\n",
      "train accuracy: 1.0\n",
      "test accuracy: 0.3022113022113022\n",
      "862\n",
      "train accuracy: 1.0\n",
      "test accuracy: 0.29975429975429974\n",
      "863\n",
      "train accuracy: 1.0\n",
      "test accuracy: 0.29975429975429974\n",
      "864\n",
      "train accuracy: 1.0\n",
      "test accuracy: 0.3022113022113022\n",
      "865\n",
      "train accuracy: 1.0\n",
      "test accuracy: 0.3022113022113022\n",
      "866\n",
      "train accuracy: 1.0\n",
      "test accuracy: 0.3022113022113022\n",
      "867\n",
      "train accuracy: 1.0\n",
      "test accuracy: 0.3022113022113022\n",
      "868\n",
      "train accuracy: 1.0\n",
      "test accuracy: 0.3022113022113022\n",
      "869\n",
      "train accuracy: 1.0\n",
      "test accuracy: 0.29975429975429974\n",
      "870\n",
      "train accuracy: 1.0\n",
      "test accuracy: 0.29975429975429974\n",
      "871\n",
      "train accuracy: 1.0\n",
      "test accuracy: 0.3022113022113022\n",
      "872\n",
      "train accuracy: 1.0\n",
      "test accuracy: 0.2972972972972973\n",
      "873\n",
      "train accuracy: 1.0\n",
      "test accuracy: 0.2972972972972973\n",
      "874\n",
      "train accuracy: 1.0\n",
      "test accuracy: 0.29975429975429974\n",
      "875\n",
      "train accuracy: 1.0\n",
      "test accuracy: 0.2972972972972973\n",
      "876\n",
      "train accuracy: 1.0\n",
      "test accuracy: 0.2972972972972973\n",
      "877\n",
      "train accuracy: 1.0\n",
      "test accuracy: 0.29975429975429974\n",
      "878\n",
      "train accuracy: 1.0\n",
      "test accuracy: 0.29975429975429974\n",
      "879\n",
      "train accuracy: 1.0\n",
      "test accuracy: 0.3022113022113022\n",
      "880\n",
      "train accuracy: 1.0\n",
      "test accuracy: 0.29975429975429974\n",
      "881\n",
      "train accuracy: 1.0\n",
      "test accuracy: 0.29975429975429974\n",
      "882\n",
      "train accuracy: 1.0\n",
      "test accuracy: 0.29975429975429974\n",
      "883\n",
      "train accuracy: 1.0\n",
      "test accuracy: 0.29975429975429974\n",
      "884\n",
      "train accuracy: 1.0\n",
      "test accuracy: 0.29975429975429974\n",
      "885\n",
      "train accuracy: 1.0\n",
      "test accuracy: 0.2972972972972973\n",
      "886\n",
      "train accuracy: 1.0\n",
      "test accuracy: 0.29484029484029484\n",
      "887\n",
      "train accuracy: 1.0\n",
      "test accuracy: 0.2972972972972973\n",
      "888\n",
      "train accuracy: 1.0\n",
      "test accuracy: 0.29484029484029484\n",
      "889\n",
      "train accuracy: 1.0\n",
      "test accuracy: 0.2972972972972973\n",
      "890\n",
      "train accuracy: 1.0\n",
      "test accuracy: 0.2972972972972973\n",
      "891\n",
      "train accuracy: 1.0\n",
      "test accuracy: 0.29484029484029484\n",
      "892\n",
      "train accuracy: 1.0\n",
      "test accuracy: 0.29484029484029484\n",
      "893\n",
      "train accuracy: 1.0\n",
      "test accuracy: 0.29484029484029484\n",
      "894\n",
      "train accuracy: 1.0\n",
      "test accuracy: 0.29238329238329236\n",
      "895\n",
      "train accuracy: 1.0\n",
      "test accuracy: 0.29238329238329236\n",
      "896\n",
      "train accuracy: 1.0\n",
      "test accuracy: 0.29484029484029484\n",
      "897\n",
      "train accuracy: 1.0\n",
      "test accuracy: 0.29484029484029484\n",
      "898\n",
      "train accuracy: 1.0\n",
      "test accuracy: 0.29484029484029484\n",
      "899\n",
      "train accuracy: 1.0\n",
      "test accuracy: 0.29484029484029484\n",
      "900\n",
      "train accuracy: 1.0\n",
      "test accuracy: 0.29975429975429974\n",
      "901\n",
      "train accuracy: 1.0\n",
      "test accuracy: 0.2972972972972973\n",
      "902\n",
      "train accuracy: 1.0\n",
      "test accuracy: 0.2972972972972973\n",
      "903\n",
      "train accuracy: 1.0\n",
      "test accuracy: 0.29484029484029484\n",
      "904\n",
      "train accuracy: 1.0\n",
      "test accuracy: 0.29484029484029484\n",
      "905\n",
      "train accuracy: 1.0\n",
      "test accuracy: 0.29238329238329236\n",
      "906\n",
      "train accuracy: 1.0\n",
      "test accuracy: 0.29238329238329236\n",
      "907\n",
      "train accuracy: 1.0\n",
      "test accuracy: 0.29238329238329236\n",
      "908\n",
      "train accuracy: 1.0\n",
      "test accuracy: 0.29238329238329236\n",
      "909\n",
      "train accuracy: 1.0\n",
      "test accuracy: 0.29238329238329236\n",
      "910\n",
      "train accuracy: 1.0\n",
      "test accuracy: 0.28992628992628994\n",
      "911\n",
      "train accuracy: 1.0\n",
      "test accuracy: 0.28992628992628994\n",
      "912\n",
      "train accuracy: 1.0\n",
      "test accuracy: 0.29484029484029484\n",
      "913\n",
      "train accuracy: 1.0\n",
      "test accuracy: 0.29238329238329236\n",
      "914\n",
      "train accuracy: 1.0\n",
      "test accuracy: 0.29484029484029484\n",
      "915\n",
      "train accuracy: 1.0\n",
      "test accuracy: 0.29238329238329236\n",
      "916\n",
      "train accuracy: 1.0\n",
      "test accuracy: 0.29238329238329236\n",
      "917\n",
      "train accuracy: 1.0\n",
      "test accuracy: 0.29484029484029484\n",
      "918\n",
      "train accuracy: 1.0\n",
      "test accuracy: 0.2972972972972973\n",
      "919\n",
      "train accuracy: 1.0\n",
      "test accuracy: 0.2972972972972973\n",
      "920\n",
      "train accuracy: 1.0\n",
      "test accuracy: 0.29484029484029484\n",
      "921\n",
      "train accuracy: 1.0\n",
      "test accuracy: 0.29484029484029484\n",
      "922\n",
      "train accuracy: 1.0\n",
      "test accuracy: 0.28992628992628994\n",
      "923\n",
      "train accuracy: 1.0\n",
      "test accuracy: 0.29484029484029484\n",
      "924\n",
      "train accuracy: 1.0\n",
      "test accuracy: 0.29238329238329236\n",
      "925\n",
      "train accuracy: 1.0\n",
      "test accuracy: 0.28992628992628994\n",
      "926\n",
      "train accuracy: 1.0\n",
      "test accuracy: 0.28992628992628994\n",
      "927\n",
      "train accuracy: 1.0\n",
      "test accuracy: 0.29238329238329236\n",
      "928\n",
      "train accuracy: 1.0\n",
      "test accuracy: 0.28992628992628994\n",
      "929\n",
      "train accuracy: 1.0\n",
      "test accuracy: 0.28992628992628994\n",
      "930\n",
      "train accuracy: 1.0\n",
      "test accuracy: 0.29238329238329236\n",
      "931\n",
      "train accuracy: 1.0\n",
      "test accuracy: 0.28992628992628994\n",
      "932\n",
      "train accuracy: 1.0\n",
      "test accuracy: 0.29238329238329236\n",
      "933\n",
      "train accuracy: 1.0\n",
      "test accuracy: 0.29238329238329236\n",
      "934\n",
      "train accuracy: 1.0\n",
      "test accuracy: 0.28992628992628994\n",
      "935\n",
      "train accuracy: 1.0\n",
      "test accuracy: 0.28992628992628994\n",
      "936\n",
      "train accuracy: 1.0\n",
      "test accuracy: 0.28992628992628994\n",
      "937\n",
      "train accuracy: 1.0\n",
      "test accuracy: 0.28992628992628994\n",
      "938\n",
      "train accuracy: 1.0\n",
      "test accuracy: 0.29238329238329236\n",
      "939\n",
      "train accuracy: 1.0\n",
      "test accuracy: 0.29484029484029484\n",
      "940\n",
      "train accuracy: 1.0\n",
      "test accuracy: 0.29484029484029484\n",
      "941\n",
      "train accuracy: 1.0\n",
      "test accuracy: 0.28746928746928746\n",
      "942\n",
      "train accuracy: 1.0\n",
      "test accuracy: 0.28992628992628994\n",
      "943\n",
      "train accuracy: 1.0\n",
      "test accuracy: 0.28746928746928746\n",
      "944\n",
      "train accuracy: 1.0\n",
      "test accuracy: 0.28992628992628994\n",
      "945\n",
      "train accuracy: 1.0\n",
      "test accuracy: 0.28992628992628994\n",
      "946\n",
      "train accuracy: 1.0\n",
      "test accuracy: 0.28992628992628994\n",
      "947\n",
      "train accuracy: 1.0\n",
      "test accuracy: 0.28992628992628994\n",
      "948\n",
      "train accuracy: 1.0\n",
      "test accuracy: 0.28992628992628994\n",
      "949\n",
      "train accuracy: 1.0\n",
      "test accuracy: 0.29238329238329236\n",
      "950\n",
      "train accuracy: 1.0\n",
      "test accuracy: 0.29238329238329236\n",
      "951\n",
      "train accuracy: 1.0\n",
      "test accuracy: 0.29238329238329236\n",
      "952\n",
      "train accuracy: 1.0\n",
      "test accuracy: 0.29484029484029484\n",
      "953\n",
      "train accuracy: 1.0\n",
      "test accuracy: 0.28992628992628994\n",
      "954\n",
      "train accuracy: 1.0\n",
      "test accuracy: 0.2972972972972973\n",
      "955\n",
      "train accuracy: 1.0\n",
      "test accuracy: 0.28992628992628994\n",
      "956\n",
      "train accuracy: 1.0\n",
      "test accuracy: 0.28992628992628994\n",
      "957\n",
      "train accuracy: 1.0\n",
      "test accuracy: 0.29238329238329236\n",
      "958\n",
      "train accuracy: 1.0\n",
      "test accuracy: 0.29238329238329236\n",
      "959\n",
      "train accuracy: 1.0\n",
      "test accuracy: 0.29238329238329236\n",
      "960\n",
      "train accuracy: 1.0\n",
      "test accuracy: 0.29238329238329236\n",
      "961\n",
      "train accuracy: 1.0\n",
      "test accuracy: 0.28992628992628994\n",
      "962\n",
      "train accuracy: 1.0\n",
      "test accuracy: 0.28992628992628994\n",
      "963\n",
      "train accuracy: 1.0\n",
      "test accuracy: 0.28992628992628994\n",
      "964\n",
      "train accuracy: 1.0\n",
      "test accuracy: 0.28992628992628994\n",
      "965\n",
      "train accuracy: 1.0\n",
      "test accuracy: 0.28992628992628994\n",
      "966\n",
      "train accuracy: 1.0\n",
      "test accuracy: 0.28992628992628994\n",
      "967\n",
      "train accuracy: 1.0\n",
      "test accuracy: 0.28992628992628994\n",
      "968\n",
      "train accuracy: 1.0\n",
      "test accuracy: 0.28746928746928746\n",
      "969\n",
      "train accuracy: 1.0\n",
      "test accuracy: 0.28746928746928746\n",
      "970\n",
      "train accuracy: 1.0\n",
      "test accuracy: 0.28992628992628994\n",
      "971\n",
      "train accuracy: 1.0\n",
      "test accuracy: 0.28746928746928746\n",
      "972\n",
      "train accuracy: 1.0\n",
      "test accuracy: 0.28992628992628994\n",
      "973\n",
      "train accuracy: 1.0\n",
      "test accuracy: 0.28992628992628994\n",
      "974\n",
      "train accuracy: 1.0\n",
      "test accuracy: 0.28992628992628994\n",
      "975\n",
      "train accuracy: 1.0\n",
      "test accuracy: 0.28746928746928746\n",
      "976\n",
      "train accuracy: 1.0\n",
      "test accuracy: 0.28746928746928746\n",
      "977\n",
      "train accuracy: 1.0\n",
      "test accuracy: 0.28992628992628994\n",
      "978\n",
      "train accuracy: 1.0\n",
      "test accuracy: 0.28746928746928746\n",
      "979\n",
      "train accuracy: 1.0\n",
      "test accuracy: 0.28746928746928746\n",
      "980\n",
      "train accuracy: 1.0\n",
      "test accuracy: 0.28746928746928746\n",
      "981\n",
      "train accuracy: 1.0\n",
      "test accuracy: 0.28746928746928746\n",
      "982\n",
      "train accuracy: 1.0\n",
      "test accuracy: 0.28746928746928746\n",
      "983\n",
      "train accuracy: 1.0\n",
      "test accuracy: 0.28746928746928746\n",
      "984\n",
      "train accuracy: 1.0\n",
      "test accuracy: 0.28992628992628994\n",
      "985\n",
      "train accuracy: 1.0\n",
      "test accuracy: 0.28992628992628994\n",
      "986\n",
      "train accuracy: 1.0\n",
      "test accuracy: 0.29238329238329236\n",
      "987\n",
      "train accuracy: 1.0\n",
      "test accuracy: 0.29238329238329236\n",
      "988\n",
      "train accuracy: 1.0\n",
      "test accuracy: 0.28992628992628994\n",
      "989\n",
      "train accuracy: 1.0\n",
      "test accuracy: 0.29238329238329236\n",
      "990\n",
      "train accuracy: 1.0\n",
      "test accuracy: 0.29238329238329236\n",
      "991\n",
      "train accuracy: 1.0\n",
      "test accuracy: 0.29238329238329236\n",
      "992\n",
      "train accuracy: 1.0\n",
      "test accuracy: 0.29238329238329236\n",
      "993\n",
      "train accuracy: 1.0\n",
      "test accuracy: 0.29238329238329236\n",
      "994\n",
      "train accuracy: 1.0\n",
      "test accuracy: 0.28992628992628994\n",
      "995\n",
      "train accuracy: 1.0\n",
      "test accuracy: 0.28992628992628994\n",
      "996\n",
      "train accuracy: 1.0\n",
      "test accuracy: 0.28746928746928746\n",
      "997\n",
      "train accuracy: 1.0\n",
      "test accuracy: 0.28746928746928746\n",
      "998\n",
      "train accuracy: 1.0\n",
      "test accuracy: 0.28992628992628994\n",
      "999\n",
      "train accuracy: 1.0\n",
      "test accuracy: 0.28746928746928746\n",
      "1000\n",
      "train accuracy: 1.0\n",
      "test accuracy: 0.28746928746928746\n",
      "End in turn: 670\n",
      "Best accuracy on test set: 0.3194103194103194 -- tree: 330\n"
     ]
    }
   ],
   "source": [
    "from sklearn.ensemble import RandomForestClassifier\n",
    "tree = 1\n",
    "result = (0.0, 1)\n",
    "early_stopping_round = 200\n",
    "turn = 1\n",
    "train_accs = np.array()\n",
    "test_accs = np.array()\n",
    "while True:\n",
    "    clf = RandomForestClassifier(n_estimators = tree, \n",
    "                                 max_depth = 10,\n",
    "                                 min_samples_split = 5, \n",
    "                                 n_jobs=6,\n",
    "                                 random_state = 1998)\n",
    "    \n",
    "    clf.fit(X_train, Y_train)\n",
    "    train_acc = clf.score(X_train, Y_train)\n",
    "    test_acc = clf.score(X_test, Y_test)\n",
    "    print(tree)\n",
    "    print('train accuracy:', train_acc)\n",
    "    print('test accuracy:', test_acc)\n",
    "    \n",
    "    train_accs.append(np.array((tree, train_acc)))\n",
    "    test_accs.append(np.array((tree, test_acc)))\n",
    "    \n",
    "    early_stopping_round -= 1\n",
    "    if test_acc > result[0]:\n",
    "        turn = 0\n",
    "        result = test_acc, tree\n",
    "    elif turn == early_stopping_round or tree == 1000:\n",
    "        print('End in turn:', turn)\n",
    "        break\n",
    "    tree += 1\n",
    "    turn += 1\n",
    "print('Best accuracy on test set:', result[0], '-- tree:', result[1])\n",
    "plt.figure(num=None, figsize=(15,15))\n",
    "plt.plot(train_accs[0], train_accs[1])\n",
    "plt.plot(test_accs[0], test_accs[1])"
   ]
  },
  {
   "cell_type": "code",
   "execution_count": 90,
   "metadata": {},
   "outputs": [
    {
     "name": "stdout",
     "output_type": "stream",
     "text": [
      "Train:  (770, 27002)\n",
      "Test:  (407, 27002)\n",
      "Train - PCA:  (770, 110)\n",
      "Test - PCA:  (407, 110)\n"
     ]
    }
   ],
   "source": [
    "print(\"Train: \", train.shape)\n",
    "print(\"Test: \", test.shape)\n",
    "print(\"Train - PCA: \", X_train.shape)\n",
    "print(\"Test - PCA: \", X_test.shape)"
   ]
  }
 ],
 "metadata": {
  "kernelspec": {
   "display_name": "Python 3",
   "language": "python",
   "name": "python3"
  },
  "language_info": {
   "codemirror_mode": {
    "name": "ipython",
    "version": 3
   },
   "file_extension": ".py",
   "mimetype": "text/x-python",
   "name": "python",
   "nbconvert_exporter": "python",
   "pygments_lexer": "ipython3",
   "version": "3.6.7"
  }
 },
 "nbformat": 4,
 "nbformat_minor": 2
}
