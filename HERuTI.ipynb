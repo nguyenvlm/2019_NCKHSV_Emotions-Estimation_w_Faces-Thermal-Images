{
 "cells": [
  {
   "cell_type": "markdown",
   "metadata": {},
   "source": [
    "# Human's emotion recognition using thermal images\n",
    "## *TEACHER: NGUYEN VIET HUNG*\n",
    "## *MEMBER*\n",
    "- Vuong Le Minh Nguyen\n",
    "- Luong Cong Tam"
   ]
  },
  {
   "cell_type": "markdown",
   "metadata": {},
   "source": [
    "#### Import Library & Settings"
   ]
  },
  {
   "cell_type": "code",
   "execution_count": 1,
   "metadata": {},
   "outputs": [],
   "source": [
    "import pandas as pd\n",
    "import sklearn\n",
    "import scipy\n",
    "import numpy as np\n",
    "import matplotlib.pyplot as plt\n",
    "import cv2\n",
    "import glob\n",
    "import random\n",
    "import IPython.display as display\n",
    "from configparser import ConfigParser\n",
    "from time import sleep\n",
    "\n",
    "# np.set_printoptions(threshold=np.inf) # Setting for full numpy matrices printing"
   ]
  },
  {
   "cell_type": "code",
   "execution_count": 2,
   "metadata": {},
   "outputs": [],
   "source": [
    "# Load db config:\n",
    "dbconfig = ConfigParser()\n",
    "dbconfig.read('database.ini')\n",
    "\n",
    "# Assign dbDir with local config:\n",
    "dbDir = dbconfig['LOCAL']['location'] #Database directory\n",
    "eDir = {\n",
    "    \"angry\":\"anger\",\n",
    "    \"fear\":\"fear\",\n",
    "    \"happy\":\"happy\",\n",
    "    \"sad\":\"sadness\",\n",
    "    \"neutral\":\"neutral\"\n",
    "} #Name of directory of each Emotion"
   ]
  },
  {
   "cell_type": "markdown",
   "metadata": {},
   "source": [
    "#### Function definition"
   ]
  },
  {
   "cell_type": "code",
   "execution_count": 3,
   "metadata": {},
   "outputs": [],
   "source": [
    "def frameShow(frame, ):\n",
    "    w, h = frame.shape\n",
    "    _, ret = cv2.imencode('.jpg',frame)\n",
    "    i = display.Image(data=ret, width = w*3, height = h*3)\n",
    "    display.display(i)\n",
    "    sleep(0.05)\n",
    "    display.clear_output(True)"
   ]
  },
  {
   "cell_type": "code",
   "execution_count": 4,
   "metadata": {},
   "outputs": [],
   "source": [
    "def getSVXFiles(fd):\n",
    "    return glob.glob(fd + '/*.svx')"
   ]
  },
  {
   "cell_type": "code",
   "execution_count": 5,
   "metadata": {},
   "outputs": [],
   "source": [
    "def readSVX(file, frame_limit = 6990):\n",
    "    # Default frame_limit is based on the requirement of at least 1GB of free RAM (6990*153600B ~~ 1GB)\n",
    "    # Open file to read:\n",
    "    f = open(file,'rb') \n",
    "    \n",
    "    # Skip 128 bytes from the file's beginning:\n",
    "    f.seek(128) \n",
    "    \n",
    "    # Calculate grayscale converter:\n",
    "    [CA,CB] = np.divide(np.frombuffer(f.read(8), dtype=np.dtype('<i4'), count=2), 2**16)\n",
    "    #Array from buffer\n",
    "    #Data type: int32 (4 bytes/each - 'i4') \n",
    "    #Byte-order:  Litte-endian ('<')\n",
    "    \n",
    "    # Skip to the beginning of first frame to start reading:\n",
    "    f.seek(1104) \n",
    "    \n",
    "    list_img2d = []\n",
    "\n",
    "    for i in range (0,frame_limit):\n",
    "        buffer = f.read(153600)\n",
    "        \n",
    "        # Check EOF:\n",
    "        if len(buffer) < 153600:\n",
    "            break\n",
    "        \n",
    "        img = np.frombuffer(buffer,dtype=np.dtype('>i2'))\n",
    "        #Array from buffer\n",
    "        #Data type: int16 (2 bytes/each - 'i2') \n",
    "        #Byte-order:  Big-endian ('>')\n",
    "        \n",
    "        # Convert read img to grayscale (temperature) using converter, then reshape from 1D to 2D:\n",
    "        img2d = (img * CB + CA).reshape(240,320)\n",
    "        \n",
    "        # Add read frame to the result array:\n",
    "        list_img2d.append(img2d) \n",
    "        \n",
    "        frameShow(img2d)\n",
    "        \n",
    "        # Move to the beginning of next frame to continue reading:\n",
    "        f.seek(2592,1) \n",
    "    \n",
    "    f.close()\n",
    "    return np.array(list_img2d)"
   ]
  },
  {
   "cell_type": "code",
   "execution_count": null,
   "metadata": {
    "slideshow": {
     "slide_type": "subslide"
    }
   },
   "outputs": [],
   "source": [
    "def getROI(frame):\n",
    "    tMax = np.amax(frame)\n",
    "    tMin = np.amin(frame)\n",
    "    # TODO: Continue writing getROIfunction"
   ]
  },
  {
   "cell_type": "code",
   "execution_count": 86,
   "metadata": {},
   "outputs": [],
   "source": [
    "def getFace(frame):\n",
    "    # TODO - getFace function\n",
    "    xF, yF = frame.shape\n",
    "    print(xF, yF)\n",
    "    tE, rE, bE, lE = xF, 0, 0, yF\n",
    "    print(tE, rE, bE, lE)\n",
    "    for x in range(xF):\n",
    "        for y in range(yF):\n",
    "            if (frame[x][y] < 29.0):\n",
    "                frame[x][y] = 0\n",
    "            else:\n",
    "                tE = min(tE, x)\n",
    "                rE = max(rE, y)\n",
    "                lE = min(lE, y)\n",
    "    \n",
    "    # Find bottomEdge\n",
    "    mP = (rE + lE) // 2\n",
    "    print(mP)\n",
    "    for i in range(130, xF-1):\n",
    "        if abs(frame[i][mP] - frame[i+1][mP]) > 00.60:\n",
    "            print(frame[i][mP], frame[i+1][mP])\n",
    "            bE = i\n",
    "            break\n",
    "            \n",
    "    print(tE, rE, bE, lE)\n",
    "    \n",
    "    print(frame[lE:rE:1, tE:bE:1].shape)\n",
    "    plt.imshow(frame[tE:bE, lE:rE])\n",
    "    plt.show()"
   ]
  },
  {
   "cell_type": "code",
   "execution_count": 87,
   "metadata": {},
   "outputs": [
    {
     "ename": "SyntaxError",
     "evalue": "unexpected EOF while parsing (<ipython-input-87-179feca3ff38>, line 2)",
     "output_type": "error",
     "traceback": [
      "\u001b[0;36m  File \u001b[0;32m\"<ipython-input-87-179feca3ff38>\"\u001b[0;36m, line \u001b[0;32m2\u001b[0m\n\u001b[0;31m    # TODO - frame Crop and Resize function\u001b[0m\n\u001b[0m                                           ^\u001b[0m\n\u001b[0;31mSyntaxError\u001b[0m\u001b[0;31m:\u001b[0m unexpected EOF while parsing\n"
     ]
    }
   ],
   "source": [
    "def frameCaRs(frame, width, height):\n",
    "    # TODO - frame Crop and Resize function"
   ]
  },
  {
   "cell_type": "code",
   "execution_count": 7,
   "metadata": {
    "slideshow": {
     "slide_type": "-"
    }
   },
   "outputs": [
    {
     "name": "stdout",
     "output_type": "stream",
     "text": [
      "./dataset/fear/Vys2.svx frames =  10\n"
     ]
    }
   ],
   "source": [
    "# Demo reading imgs from SVX Files:\n",
    "train = []\n",
    "for file in getSVXFiles(dbDir+eDir['fear']):\n",
    "    data = readSVX(file, 10)\n",
    "    print(file, 'frames = ', len(data))\n",
    "    train.extend(data)\n",
    "    data = None"
   ]
  },
  {
   "cell_type": "code",
   "execution_count": 88,
   "metadata": {},
   "outputs": [
    {
     "name": "stdout",
     "output_type": "stream",
     "text": [
      "240 320\n",
      "240 0 0 320\n",
      "154\n",
      "35.1611328125 31.5234375\n",
      "29 243 130 65\n",
      "(175, 101)\n"
     ]
    },
    {
     "data": {
      "image/png": "[encoded data removed]",
      "text/plain": [
       "<Figure size 432x288 with 1 Axes>"
      ]
     },
     "metadata": {
      "needs_background": "light"
     },
     "output_type": "display_data"
    }
   ],
   "source": [
    "getFace(train[0])"
   ]
  },
  {
   "cell_type": "code",
   "execution_count": null,
   "metadata": {},
   "outputs": [],
   "source": []
  }
 ],
 "metadata": {
  "kernelspec": {
   "display_name": "Python 3",
   "language": "python",
   "name": "python3"
  },
  "language_info": {
   "codemirror_mode": {
    "name": "ipython",
    "version": 3
   },
   "file_extension": ".py",
   "mimetype": "text/x-python",
   "name": "python",
   "nbconvert_exporter": "python",
   "pygments_lexer": "ipython3",
   "version": "3.6.7"
  }
 },
 "nbformat": 4,
 "nbformat_minor": 2
}
